{
 "cells": [
  {
   "cell_type": "code",
   "execution_count": 1,
   "metadata": {},
   "outputs": [],
   "source": [
    "genKids = function(bTimes, cTimes, parentID, lambda = 0.5, kappa = 0.3) {\n",
    "       # Determine how many children each job has\n",
    "  parentAge = cTimes - bTimes\n",
    "  numKids = rpois(n = length(parentAge), lambda = lambda * parentAge)\n",
    "  \n",
    "  if (sum(numKids) == 0) return(NULL)\n",
    "  \n",
    "       # Determine the birth times of the children  \n",
    "  kidStats = \n",
    "    mapply(function(n, min, max) {\n",
    "      births = sort(runif(n, min, max))\n",
    "      runtimes = rexp(n, rate = kappa)\n",
    "      completes = rep(max, n) + runtimes\n",
    "      data.frame(births, completes)\n",
    "    },\n",
    "           n = numKids , min = bTimes, max = cTimes, \n",
    "           SIMPLIFY = FALSE)\n",
    "  \n",
    "  return(data.frame(parentID = rep(parentID, numKids),\n",
    "                    kidID = 1:sum(numKids), \n",
    "                    births = unlist(lapply(kidStats, \"[[\", \"births\")), \n",
    "                    completes = unlist(lapply(kidStats,\"[[\", \"completes\"))\n",
    "                    ))\n",
    "}"
   ]
  },
  {
   "cell_type": "code",
   "execution_count": 2,
   "metadata": {},
   "outputs": [
    {
     "data": {
      "text/html": [
       "<table>\n",
       "<thead><tr><th scope=col>parentID</th><th scope=col>kidID</th><th scope=col>births</th><th scope=col>completes</th></tr></thead>\n",
       "<tbody>\n",
       "\t<tr><td>NA       </td><td>1        </td><td>0.5987407</td><td>1.53269  </td></tr>\n",
       "</tbody>\n",
       "</table>\n"
      ],
      "text/latex": [
       "\\begin{tabular}{r|llll}\n",
       " parentID & kidID & births & completes\\\\\n",
       "\\hline\n",
       "\t NA        & 1         & 0.5987407 & 1.53269  \\\\\n",
       "\\end{tabular}\n"
      ],
      "text/markdown": [
       "\n",
       "parentID | kidID | births | completes | \n",
       "|---|\n",
       "| NA        | 1         | 0.5987407 | 1.53269   | \n",
       "\n",
       "\n"
      ],
      "text/plain": [
       "  parentID kidID births    completes\n",
       "1 NA       1     0.5987407 1.53269  "
      ]
     },
     "metadata": {},
     "output_type": "display_data"
    }
   ],
   "source": [
    "genKids(0, 1, NA, 0.5, 0.3)"
   ]
  },
  {
   "cell_type": "code",
   "execution_count": 3,
   "metadata": {},
   "outputs": [],
   "source": [
    "familyTree = function(lambda = 0.5, kappa = 0.3, maxGen = 10) {\n",
    "  # maxGen - maximum number of generations to observe\n",
    "  # Return value - a list with 1 data frame per generation.\n",
    "  allGens = vector(mode = \"list\", length = maxGen)\n",
    "  \n",
    "  # Generate the root of the tree\n",
    "  allGens[[1]] = data.frame(parentID = NA, kidID = 1, births = 0,\n",
    "                            completes = rexp(1, rate = kappa))\n",
    "  \n",
    "  # Generate future generations, one at a time.\n",
    "  for (i in 2:maxGen) {\n",
    "    nextGen = genKids(bTimes = allGens[[ (i - 1) ]]$births,\n",
    "                       cTimes = allGens[[ (i - 1) ]]$completes,\n",
    "                       parentID = allGens[[ (i - 1) ]]$kidID,\n",
    "                       lambda = lambda, kappa = kappa)\n",
    "    if (is.null(nextGen)) return(allGens[ 1:(i - 1) ])\n",
    "    allGens[[ i ]] = nextGen\n",
    "  }\n",
    "  \n",
    "  return(allGens)\n",
    "}"
   ]
  },
  {
   "cell_type": "code",
   "execution_count": 4,
   "metadata": {},
   "outputs": [
    {
     "data": {
      "text/html": [
       "<ol>\n",
       "\t<li><table>\n",
       "<thead><tr><th scope=col>parentID</th><th scope=col>kidID</th><th scope=col>births</th><th scope=col>completes</th></tr></thead>\n",
       "<tbody>\n",
       "\t<tr><td>NA       </td><td>1        </td><td>0        </td><td>0.8183244</td></tr>\n",
       "</tbody>\n",
       "</table>\n",
       "</li>\n",
       "\t<li><table>\n",
       "<thead><tr><th scope=col>parentID</th><th scope=col>kidID</th><th scope=col>births</th><th scope=col>completes</th></tr></thead>\n",
       "<tbody>\n",
       "\t<tr><td>1        </td><td>1        </td><td>0.1969404</td><td>5.396682 </td></tr>\n",
       "</tbody>\n",
       "</table>\n",
       "</li>\n",
       "\t<li><table>\n",
       "<thead><tr><th scope=col>parentID</th><th scope=col>kidID</th><th scope=col>births</th><th scope=col>completes</th></tr></thead>\n",
       "<tbody>\n",
       "\t<tr><td>1        </td><td>1        </td><td>0.4363301</td><td> 9.004245</td></tr>\n",
       "\t<tr><td>1        </td><td>2        </td><td>4.7434094</td><td> 9.156957</td></tr>\n",
       "\t<tr><td>1        </td><td>3        </td><td>4.9118595</td><td>12.307720</td></tr>\n",
       "</tbody>\n",
       "</table>\n",
       "</li>\n",
       "</ol>\n"
      ],
      "text/latex": [
       "\\begin{enumerate}\n",
       "\\item \\begin{tabular}{r|llll}\n",
       " parentID & kidID & births & completes\\\\\n",
       "\\hline\n",
       "\t NA        & 1         & 0         & 0.8183244\\\\\n",
       "\\end{tabular}\n",
       "\n",
       "\\item \\begin{tabular}{r|llll}\n",
       " parentID & kidID & births & completes\\\\\n",
       "\\hline\n",
       "\t 1         & 1         & 0.1969404 & 5.396682 \\\\\n",
       "\\end{tabular}\n",
       "\n",
       "\\item \\begin{tabular}{r|llll}\n",
       " parentID & kidID & births & completes\\\\\n",
       "\\hline\n",
       "\t 1         & 1         & 0.4363301 &  9.004245\\\\\n",
       "\t 1         & 2         & 4.7434094 &  9.156957\\\\\n",
       "\t 1         & 3         & 4.9118595 & 12.307720\\\\\n",
       "\\end{tabular}\n",
       "\n",
       "\\end{enumerate}\n"
      ],
      "text/markdown": [
       "1. \n",
       "parentID | kidID | births | completes | \n",
       "|---|\n",
       "| NA        | 1         | 0         | 0.8183244 | \n",
       "\n",
       "\n",
       "\n",
       "2. \n",
       "parentID | kidID | births | completes | \n",
       "|---|\n",
       "| 1         | 1         | 0.1969404 | 5.396682  | \n",
       "\n",
       "\n",
       "\n",
       "3. \n",
       "parentID | kidID | births | completes | \n",
       "|---|---|---|\n",
       "| 1         | 1         | 0.4363301 |  9.004245 | \n",
       "| 1         | 2         | 4.7434094 |  9.156957 | \n",
       "| 1         | 3         | 4.9118595 | 12.307720 | \n",
       "\n",
       "\n",
       "\n",
       "\n",
       "\n"
      ],
      "text/plain": [
       "[[1]]\n",
       "  parentID kidID births completes\n",
       "1       NA     1      0 0.8183244\n",
       "\n",
       "[[2]]\n",
       "  parentID kidID    births completes\n",
       "1        1     1 0.1969404  5.396682\n",
       "\n",
       "[[3]]\n",
       "  parentID kidID    births completes\n",
       "1        1     1 0.4363301  9.004245\n",
       "2        1     2 4.7434094  9.156957\n",
       "3        1     3 4.9118595 12.307720\n"
      ]
     },
     "metadata": {},
     "output_type": "display_data"
    }
   ],
   "source": [
    "familyTree(0.5, 0.3, 3)"
   ]
  },
  {
   "cell_type": "code",
   "execution_count": 5,
   "metadata": {},
   "outputs": [],
   "source": [
    "seed1 = 12062013\n",
    "set.seed(seed1)\n",
    "tree = familyTree(lambda = 0.4, kappa = 1, maxGen = 10)"
   ]
  },
  {
   "cell_type": "code",
   "execution_count": 6,
   "metadata": {},
   "outputs": [
    {
     "data": {
      "text/html": [
       "<ol>\n",
       "\t<li><table>\n",
       "<thead><tr><th scope=col>parentID</th><th scope=col>kidID</th><th scope=col>births</th><th scope=col>completes</th></tr></thead>\n",
       "<tbody>\n",
       "\t<tr><td>NA       </td><td>1        </td><td>0        </td><td>0.8244658</td></tr>\n",
       "</tbody>\n",
       "</table>\n",
       "</li>\n",
       "\t<li><table>\n",
       "<thead><tr><th scope=col>parentID</th><th scope=col>kidID</th><th scope=col>births</th><th scope=col>completes</th></tr></thead>\n",
       "<tbody>\n",
       "\t<tr><td>1        </td><td>1        </td><td>0.1908525</td><td>0.9280697</td></tr>\n",
       "\t<tr><td>1        </td><td>2        </td><td>0.4631948</td><td>4.6525607</td></tr>\n",
       "</tbody>\n",
       "</table>\n",
       "</li>\n",
       "\t<li><table>\n",
       "<thead><tr><th scope=col>parentID</th><th scope=col>kidID</th><th scope=col>births</th><th scope=col>completes</th></tr></thead>\n",
       "<tbody>\n",
       "\t<tr><td>1        </td><td>1        </td><td>0.2921203</td><td>2.479967 </td></tr>\n",
       "\t<tr><td>1        </td><td>2        </td><td>0.7177455</td><td>2.737410 </td></tr>\n",
       "\t<tr><td>2        </td><td>3        </td><td>1.3348405</td><td>4.782500 </td></tr>\n",
       "</tbody>\n",
       "</table>\n",
       "</li>\n",
       "\t<li><table>\n",
       "<thead><tr><th scope=col>parentID</th><th scope=col>kidID</th><th scope=col>births</th><th scope=col>completes</th></tr></thead>\n",
       "<tbody>\n",
       "\t<tr><td>2       </td><td>1       </td><td>2.574217</td><td>4.291288</td></tr>\n",
       "\t<tr><td>3       </td><td>2       </td><td>2.593132</td><td>5.500965</td></tr>\n",
       "\t<tr><td>3       </td><td>3       </td><td>3.111784</td><td>4.834751</td></tr>\n",
       "</tbody>\n",
       "</table>\n",
       "</li>\n",
       "</ol>\n"
      ],
      "text/latex": [
       "\\begin{enumerate}\n",
       "\\item \\begin{tabular}{r|llll}\n",
       " parentID & kidID & births & completes\\\\\n",
       "\\hline\n",
       "\t NA        & 1         & 0         & 0.8244658\\\\\n",
       "\\end{tabular}\n",
       "\n",
       "\\item \\begin{tabular}{r|llll}\n",
       " parentID & kidID & births & completes\\\\\n",
       "\\hline\n",
       "\t 1         & 1         & 0.1908525 & 0.9280697\\\\\n",
       "\t 1         & 2         & 0.4631948 & 4.6525607\\\\\n",
       "\\end{tabular}\n",
       "\n",
       "\\item \\begin{tabular}{r|llll}\n",
       " parentID & kidID & births & completes\\\\\n",
       "\\hline\n",
       "\t 1         & 1         & 0.2921203 & 2.479967 \\\\\n",
       "\t 1         & 2         & 0.7177455 & 2.737410 \\\\\n",
       "\t 2         & 3         & 1.3348405 & 4.782500 \\\\\n",
       "\\end{tabular}\n",
       "\n",
       "\\item \\begin{tabular}{r|llll}\n",
       " parentID & kidID & births & completes\\\\\n",
       "\\hline\n",
       "\t 2        & 1        & 2.574217 & 4.291288\\\\\n",
       "\t 3        & 2        & 2.593132 & 5.500965\\\\\n",
       "\t 3        & 3        & 3.111784 & 4.834751\\\\\n",
       "\\end{tabular}\n",
       "\n",
       "\\end{enumerate}\n"
      ],
      "text/markdown": [
       "1. \n",
       "parentID | kidID | births | completes | \n",
       "|---|\n",
       "| NA        | 1         | 0         | 0.8244658 | \n",
       "\n",
       "\n",
       "\n",
       "2. \n",
       "parentID | kidID | births | completes | \n",
       "|---|---|\n",
       "| 1         | 1         | 0.1908525 | 0.9280697 | \n",
       "| 1         | 2         | 0.4631948 | 4.6525607 | \n",
       "\n",
       "\n",
       "\n",
       "3. \n",
       "parentID | kidID | births | completes | \n",
       "|---|---|---|\n",
       "| 1         | 1         | 0.2921203 | 2.479967  | \n",
       "| 1         | 2         | 0.7177455 | 2.737410  | \n",
       "| 2         | 3         | 1.3348405 | 4.782500  | \n",
       "\n",
       "\n",
       "\n",
       "4. \n",
       "parentID | kidID | births | completes | \n",
       "|---|---|---|\n",
       "| 2        | 1        | 2.574217 | 4.291288 | \n",
       "| 3        | 2        | 2.593132 | 5.500965 | \n",
       "| 3        | 3        | 3.111784 | 4.834751 | \n",
       "\n",
       "\n",
       "\n",
       "\n",
       "\n"
      ],
      "text/plain": [
       "[[1]]\n",
       "  parentID kidID births completes\n",
       "1       NA     1      0 0.8244658\n",
       "\n",
       "[[2]]\n",
       "  parentID kidID    births completes\n",
       "1        1     1 0.1908525 0.9280697\n",
       "2        1     2 0.4631948 4.6525607\n",
       "\n",
       "[[3]]\n",
       "  parentID kidID    births completes\n",
       "1        1     1 0.2921203  2.479967\n",
       "2        1     2 0.7177455  2.737410\n",
       "3        2     3 1.3348405  4.782500\n",
       "\n",
       "[[4]]\n",
       "  parentID kidID   births completes\n",
       "1        2     1 2.574217  4.291288\n",
       "2        3     2 2.593132  5.500965\n",
       "3        3     3 3.111784  4.834751\n"
      ]
     },
     "metadata": {},
     "output_type": "display_data"
    }
   ],
   "source": [
    "tree"
   ]
  },
  {
   "cell_type": "code",
   "execution_count": 7,
   "metadata": {},
   "outputs": [
    {
     "data": {
      "text/html": [
       "5.50096481398723"
      ],
      "text/latex": [
       "5.50096481398723"
      ],
      "text/markdown": [
       "5.50096481398723"
      ],
      "text/plain": [
       "[1] 5.500965"
      ]
     },
     "metadata": {},
     "output_type": "display_data"
    },
    {
     "data": {
      "text/html": [
       "9"
      ],
      "text/latex": [
       "9"
      ],
      "text/markdown": [
       "9"
      ],
      "text/plain": [
       "[1] 9"
      ]
     },
     "metadata": {},
     "output_type": "display_data"
    },
    {
     "name": "stderr",
     "output_type": "stream",
     "text": [
      "Warning message in is.na(nextGen$births):\n",
      "“is.na() applied to non-(list or vector) of type 'NULL'”"
     ]
    },
    {
     "data": {
      "text/html": [
       "<ol>\n",
       "\t<li>NULL</li>\n",
       "\t<li>NULL</li>\n",
       "\t<li>NULL</li>\n",
       "\t<li>NULL</li>\n",
       "</ol>\n"
      ],
      "text/latex": [
       "\\begin{enumerate}\n",
       "\\item NULL\n",
       "\\item NULL\n",
       "\\item NULL\n",
       "\\item NULL\n",
       "\\end{enumerate}\n"
      ],
      "text/markdown": [
       "1. NULL\n",
       "2. NULL\n",
       "3. NULL\n",
       "4. NULL\n",
       "\n",
       "\n"
      ],
      "text/plain": [
       "[[1]]\n",
       "NULL\n",
       "\n",
       "[[2]]\n",
       "NULL\n",
       "\n",
       "[[3]]\n",
       "NULL\n",
       "\n",
       "[[4]]\n",
       "NULL\n"
      ]
     },
     "metadata": {},
     "output_type": "display_data"
    },
    {
     "data": {
      "image/png": "[encoded data removed]",
      "text/plain": [
       "plot without title"
      ]
     },
     "metadata": {},
     "output_type": "display_data"
    }
   ],
   "source": [
    "set.seed(seed1)\n",
    "g = familyTree(lambda = 0.4, kappa = 1, maxGen = 10)\n",
    "\n",
    "maxLife = max(sapply(g, function(gen) max(gen$completes)))\n",
    "numFamily = sum(sapply(g, nrow))\n",
    "maxLife\n",
    "numFamily\n",
    "                     \n",
    "plot(0,0, ylim = c(0.5, numFamily + 0.5), xlim = c(0, maxLife),\n",
    "     xlab = \"Time\", ylab = \"\", type =\"n\",\n",
    "     axes = FALSE)\n",
    "\n",
    "box()\n",
    "axis(1)\n",
    "numGen = length(g)\n",
    "numKids = sapply(g, nrow)\n",
    "treeN = g[ 2:(numGen + 1) ]\n",
    "birthNum = c(0, cumsum(sapply(g, nrow))[ -length(g)])\n",
    "axis(2, at = birthNum + 1, \n",
    "     labels = paste(\"Gen\", 1:numGen), tick = FALSE, las = 1)\n",
    "\n",
    "mapply(function(gen, nextGen, birthNum) {\n",
    "  birthOrder = birthNum + (1:nrow(gen))\n",
    "  segments(x0 = gen$births, x1 = gen$completes, y0 = birthOrder,\n",
    "          lwd = 3, col = \"grey\")\n",
    "  abline(h = 0.5 + max(birthOrder), lty = 2, col=\"black\" )\n",
    "  if (all(!is.na(nextGen$births)))\n",
    "  points(x = nextGen$births, y = birthOrder[nextGen$parentID],\n",
    "         pch = 4)\n",
    "  },\n",
    "  gen = g, nextGen = treeN, birthNum = birthNum )"
   ]
  },
  {
   "cell_type": "code",
   "execution_count": 8,
   "metadata": {},
   "outputs": [
    {
     "data": {
      "text/html": [
       "<ol>\n",
       "\t<li><table>\n",
       "<thead><tr><th scope=col>parentID</th><th scope=col>kidID</th><th scope=col>births</th><th scope=col>completes</th></tr></thead>\n",
       "<tbody>\n",
       "\t<tr><td>NA       </td><td>1        </td><td>0        </td><td>0.8244658</td></tr>\n",
       "</tbody>\n",
       "</table>\n",
       "</li>\n",
       "\t<li><table>\n",
       "<thead><tr><th scope=col>parentID</th><th scope=col>kidID</th><th scope=col>births</th><th scope=col>completes</th></tr></thead>\n",
       "<tbody>\n",
       "\t<tr><td>1        </td><td>1        </td><td>0.1908525</td><td>0.9280697</td></tr>\n",
       "\t<tr><td>1        </td><td>2        </td><td>0.4631948</td><td>4.6525607</td></tr>\n",
       "</tbody>\n",
       "</table>\n",
       "</li>\n",
       "\t<li><table>\n",
       "<thead><tr><th scope=col>parentID</th><th scope=col>kidID</th><th scope=col>births</th><th scope=col>completes</th></tr></thead>\n",
       "<tbody>\n",
       "\t<tr><td>1        </td><td>1        </td><td>0.2921203</td><td>2.479967 </td></tr>\n",
       "\t<tr><td>1        </td><td>2        </td><td>0.7177455</td><td>2.737410 </td></tr>\n",
       "\t<tr><td>2        </td><td>3        </td><td>1.3348405</td><td>4.782500 </td></tr>\n",
       "</tbody>\n",
       "</table>\n",
       "</li>\n",
       "\t<li><table>\n",
       "<thead><tr><th scope=col>parentID</th><th scope=col>kidID</th><th scope=col>births</th><th scope=col>completes</th></tr></thead>\n",
       "<tbody>\n",
       "\t<tr><td>2       </td><td>1       </td><td>2.574217</td><td>4.291288</td></tr>\n",
       "\t<tr><td>3       </td><td>2       </td><td>2.593132</td><td>5.500965</td></tr>\n",
       "\t<tr><td>3       </td><td>3       </td><td>3.111784</td><td>4.834751</td></tr>\n",
       "</tbody>\n",
       "</table>\n",
       "</li>\n",
       "</ol>\n"
      ],
      "text/latex": [
       "\\begin{enumerate}\n",
       "\\item \\begin{tabular}{r|llll}\n",
       " parentID & kidID & births & completes\\\\\n",
       "\\hline\n",
       "\t NA        & 1         & 0         & 0.8244658\\\\\n",
       "\\end{tabular}\n",
       "\n",
       "\\item \\begin{tabular}{r|llll}\n",
       " parentID & kidID & births & completes\\\\\n",
       "\\hline\n",
       "\t 1         & 1         & 0.1908525 & 0.9280697\\\\\n",
       "\t 1         & 2         & 0.4631948 & 4.6525607\\\\\n",
       "\\end{tabular}\n",
       "\n",
       "\\item \\begin{tabular}{r|llll}\n",
       " parentID & kidID & births & completes\\\\\n",
       "\\hline\n",
       "\t 1         & 1         & 0.2921203 & 2.479967 \\\\\n",
       "\t 1         & 2         & 0.7177455 & 2.737410 \\\\\n",
       "\t 2         & 3         & 1.3348405 & 4.782500 \\\\\n",
       "\\end{tabular}\n",
       "\n",
       "\\item \\begin{tabular}{r|llll}\n",
       " parentID & kidID & births & completes\\\\\n",
       "\\hline\n",
       "\t 2        & 1        & 2.574217 & 4.291288\\\\\n",
       "\t 3        & 2        & 2.593132 & 5.500965\\\\\n",
       "\t 3        & 3        & 3.111784 & 4.834751\\\\\n",
       "\\end{tabular}\n",
       "\n",
       "\\end{enumerate}\n"
      ],
      "text/markdown": [
       "1. \n",
       "parentID | kidID | births | completes | \n",
       "|---|\n",
       "| NA        | 1         | 0         | 0.8244658 | \n",
       "\n",
       "\n",
       "\n",
       "2. \n",
       "parentID | kidID | births | completes | \n",
       "|---|---|\n",
       "| 1         | 1         | 0.1908525 | 0.9280697 | \n",
       "| 1         | 2         | 0.4631948 | 4.6525607 | \n",
       "\n",
       "\n",
       "\n",
       "3. \n",
       "parentID | kidID | births | completes | \n",
       "|---|---|---|\n",
       "| 1         | 1         | 0.2921203 | 2.479967  | \n",
       "| 1         | 2         | 0.7177455 | 2.737410  | \n",
       "| 2         | 3         | 1.3348405 | 4.782500  | \n",
       "\n",
       "\n",
       "\n",
       "4. \n",
       "parentID | kidID | births | completes | \n",
       "|---|---|---|\n",
       "| 2        | 1        | 2.574217 | 4.291288 | \n",
       "| 3        | 2        | 2.593132 | 5.500965 | \n",
       "| 3        | 3        | 3.111784 | 4.834751 | \n",
       "\n",
       "\n",
       "\n",
       "\n",
       "\n"
      ],
      "text/plain": [
       "[[1]]\n",
       "  parentID kidID births completes\n",
       "1       NA     1      0 0.8244658\n",
       "\n",
       "[[2]]\n",
       "  parentID kidID    births completes\n",
       "1        1     1 0.1908525 0.9280697\n",
       "2        1     2 0.4631948 4.6525607\n",
       "\n",
       "[[3]]\n",
       "  parentID kidID    births completes\n",
       "1        1     1 0.2921203  2.479967\n",
       "2        1     2 0.7177455  2.737410\n",
       "3        2     3 1.3348405  4.782500\n",
       "\n",
       "[[4]]\n",
       "  parentID kidID   births completes\n",
       "1        2     1 2.574217  4.291288\n",
       "2        3     2 2.593132  5.500965\n",
       "3        3     3 3.111784  4.834751\n"
      ]
     },
     "metadata": {},
     "output_type": "display_data"
    },
    {
     "data": {
      "text/html": [
       "5.50096481398723"
      ],
      "text/latex": [
       "5.50096481398723"
      ],
      "text/markdown": [
       "5.50096481398723"
      ],
      "text/plain": [
       "[1] 5.500965"
      ]
     },
     "metadata": {},
     "output_type": "display_data"
    },
    {
     "data": {
      "text/html": [
       "9"
      ],
      "text/latex": [
       "9"
      ],
      "text/markdown": [
       "9"
      ],
      "text/plain": [
       "[1] 9"
      ]
     },
     "metadata": {},
     "output_type": "display_data"
    },
    {
     "name": "stderr",
     "output_type": "stream",
     "text": [
      "Warning message in is.na(nextGen$births):\n",
      "“is.na() applied to non-(list or vector) of type 'NULL'”"
     ]
    },
    {
     "data": {
      "text/html": [
       "<ol>\n",
       "\t<li>NULL</li>\n",
       "\t<li>NULL</li>\n",
       "\t<li>NULL</li>\n",
       "\t<li>NULL</li>\n",
       "</ol>\n"
      ],
      "text/latex": [
       "\\begin{enumerate}\n",
       "\\item NULL\n",
       "\\item NULL\n",
       "\\item NULL\n",
       "\\item NULL\n",
       "\\end{enumerate}\n"
      ],
      "text/markdown": [
       "1. NULL\n",
       "2. NULL\n",
       "3. NULL\n",
       "4. NULL\n",
       "\n",
       "\n"
      ],
      "text/plain": [
       "[[1]]\n",
       "NULL\n",
       "\n",
       "[[2]]\n",
       "NULL\n",
       "\n",
       "[[3]]\n",
       "NULL\n",
       "\n",
       "[[4]]\n",
       "NULL\n"
      ]
     },
     "metadata": {},
     "output_type": "display_data"
    },
    {
     "data": {
      "image/png": "[encoded data removed]",
      "text/plain": [
       "plot without title"
      ]
     },
     "metadata": {},
     "output_type": "display_data"
    }
   ],
   "source": [
    "seed1 = 12062013\n",
    "set.seed(seed1)\n",
    "g = familyTree(lambda = 0.4, kappa = 1, maxGen = 10)\n",
    "g\n",
    "\n",
    "maxLife = max(sapply(g, function(gen) max(gen$completes)))\n",
    "numFamily = sum(sapply(g, nrow))\n",
    "maxLife\n",
    "numFamily\n",
    "\n",
    "plot(0,0, xlim = c(0.5, numFamily + 0.5), ylim = c(0, maxLife),\n",
    "     xlab = \"\", ylab = \"Time\", type =\"n\",\n",
    "     axes = FALSE)\n",
    "\n",
    "box()\n",
    "axis(2)\n",
    "numGen = length(g)\n",
    "numKids = sapply(g, nrow)\n",
    "treeN = g[ 2:(numGen + 1) ]\n",
    "birthNum = c(0, cumsum(sapply(g, nrow))[ -length(g)])\n",
    "axis(1, at = birthNum + 1, \n",
    "     labels = paste(\"Gen\", 1:numGen), tick = FALSE, las = 1)             \n",
    "                     \n",
    "mapply(function(gen, nextGen, birthNum) {\n",
    "  birthOrder = birthNum + (1:nrow(gen))\n",
    "  segments(y0 = gen$births, y1 = gen$completes, x0 = birthOrder,\n",
    "          lwd = 3, col = \"red\")\n",
    "  abline(v = 0.5 + max(birthOrder), lty = 2, col=\"black\" )\n",
    "  if (all(!is.na(nextGen$births)))\n",
    "  points(y = nextGen$births, x = birthOrder[nextGen$parentID],\n",
    "         pch = 4)\n",
    "  },\n",
    "  gen = g, nextGen = treeN, birthNum = birthNum )"
   ]
  },
  {
   "cell_type": "code",
   "execution_count": null,
   "metadata": {},
   "outputs": [],
   "source": []
  }
 ],
 "metadata": {
  "anaconda-cloud": {},
  "kernelspec": {
   "display_name": "R 3.4",
   "language": "R",
   "name": "ir"
  },
  "language_info": {
   "codemirror_mode": "r",
   "file_extension": ".r",
   "mimetype": "text/x-r-source",
   "name": "R",
   "pygments_lexer": "r",
   "version": "3.4.1"
  }
 },
 "nbformat": 4,
 "nbformat_minor": 2
}
