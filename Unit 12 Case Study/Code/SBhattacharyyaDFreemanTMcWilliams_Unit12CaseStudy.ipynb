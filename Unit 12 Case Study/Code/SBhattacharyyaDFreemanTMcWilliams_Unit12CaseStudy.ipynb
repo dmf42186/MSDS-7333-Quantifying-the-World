{
 "cells": [
  {
   "cell_type": "code",
   "execution_count": 2,
   "metadata": {},
   "outputs": [],
   "source": [
    "genKidsV = function(bTimes, cTimes, parentID, lambda = 0.5, kappa = 0.3) {\n",
    "       # Determine how many children each job has\n",
    "  parentAge = cTimes - bTimes\n",
    "  numKids = rpois(n = length(parentAge), lambda = lambda * parentAge)\n",
    "  \n",
    "  if (sum(numKids) == 0) return(NULL)\n",
    "  \n",
    "       # Determine the birth times of the children  \n",
    "  kidStats = \n",
    "    mapply(function(n, min, max) {\n",
    "      births = sort(runif(n, min, max))\n",
    "      runtimes = rexp(n, rate = kappa)\n",
    "      completes = rep(max, n) + runtimes\n",
    "      data.frame(births, completes)\n",
    "    },\n",
    "           n = numKids , min = bTimes, max = cTimes, \n",
    "           SIMPLIFY = FALSE)\n",
    "  \n",
    " \n",
    "  return(data.frame(parentID = rep(parentID, numKids),\n",
    "                    kidID = 1:sum(numKids), \n",
    "                    births = unlist(lapply(kidStats, \"[[\", \"births\")), \n",
    "                    completes = unlist(lapply(kidStats,\"[[\", \"completes\"))\n",
    "                    ))\n",
    "}"
   ]
  },
  {
   "cell_type": "code",
   "execution_count": 3,
   "metadata": {},
   "outputs": [],
   "source": [
    "familyTree = function(lambda = 0.5, kappa = 0.3, maxGen = 10) {\n",
    "  # maxGen - maximum number of generations to observe\n",
    "  # Return value - a list with 1 data frame per generation.\n",
    "  allGens = vector(mode = \"list\", length = maxGen)\n",
    "  \n",
    "  # Generate the root of the tree\n",
    "  allGens[[1]] = data.frame(parentID = NA, kidID = 1, births = 0,\n",
    "                            completes = rexp(1, rate = kappa))\n",
    "  \n",
    "  # Generate future generations, one at a time.\n",
    "  for (i in 2:maxGen) {\n",
    "    nextGen = genKidsV(bTimes = allGens[[ (i - 1) ]]$births,\n",
    "                       cTimes = allGens[[ (i - 1) ]]$completes,\n",
    "                       parentID = allGens[[ (i - 1) ]]$kidID,\n",
    "                       lambda = lambda, kappa = kappa)\n",
    "    if (is.null(nextGen)) return(allGens[ 1:(i - 1) ])\n",
    "    allGens[[ i ]] = nextGen\n",
    "  }\n",
    "  \n",
    "  return(allGens)\n",
    "}"
   ]
  },
  {
   "cell_type": "code",
   "execution_count": 4,
   "metadata": {},
   "outputs": [],
   "source": [
    "seed1 = 12062013\n",
    "set.seed(seed1)\n",
    "tree = familyTree(lambda = 0.4, kappa = 1, maxGen = 10)"
   ]
  },
  {
   "cell_type": "code",
   "execution_count": 5,
   "metadata": {},
   "outputs": [
    {
     "name": "stderr",
     "output_type": "stream",
     "text": [
      "Warning message in is.na(nextGen$births):\n",
      "“is.na() applied to non-(list or vector) of type 'NULL'”"
     ]
    },
    {
     "data": {
      "text/html": [
       "<ol>\n",
       "\t<li>NULL</li>\n",
       "\t<li>NULL</li>\n",
       "\t<li>NULL</li>\n",
       "\t<li>NULL</li>\n",
       "</ol>\n"
      ],
      "text/latex": [
       "\\begin{enumerate}\n",
       "\\item NULL\n",
       "\\item NULL\n",
       "\\item NULL\n",
       "\\item NULL\n",
       "\\end{enumerate}\n"
      ],
      "text/markdown": [
       "1. NULL\n",
       "2. NULL\n",
       "3. NULL\n",
       "4. NULL\n",
       "\n",
       "\n"
      ],
      "text/plain": [
       "[[1]]\n",
       "NULL\n",
       "\n",
       "[[2]]\n",
       "NULL\n",
       "\n",
       "[[3]]\n",
       "NULL\n",
       "\n",
       "[[4]]\n",
       "NULL\n"
      ]
     },
     "metadata": {},
     "output_type": "display_data"
    },
    {
     "data": {
      "image/png": "[encoded data removed]",
      "text/plain": [
       "plot without title"
      ]
     },
     "metadata": {},
     "output_type": "display_data"
    }
   ],
   "source": [
    "set.seed(seed1)\n",
    "g = familyTree(lambda = 0.4, kappa = 1, maxGen = 10)\n",
    "\n",
    "maxLife = max(sapply(g, function(gen) max(gen$completes)))\n",
    "numFamily = sum(sapply(g, nrow))\n",
    "\n",
    "plot(0,0, ylim = c(0.5, numFamily + 0.5), xlim = c(0, maxLife),\n",
    "     xlab = \"Time\", ylab = \"\", type =\"n\",\n",
    "     axes = FALSE)\n",
    "\n",
    "box()\n",
    "axis(1)\n",
    "numGen = length(g)\n",
    "numKids = sapply(g, nrow)\n",
    "treeN = g[ 2:(numGen + 1) ]\n",
    "birthNum = c(0, cumsum(sapply(g, nrow))[ -length(g)])\n",
    "axis(2, at = birthNum + 1, \n",
    "     labels = paste(\"Gen\", 1:numGen), tick = FALSE, las = 1)\n",
    "\n",
    "mapply(function(gen, nextGen, birthNum) {\n",
    "  birthOrder = birthNum + (1:nrow(gen))\n",
    "  segments(x0 = gen$births, x1 = gen$completes, y0 = birthOrder,\n",
    "          lwd = 3, col = \"grey\")\n",
    "  abline(h = 0.5 + max(birthOrder), lty = 2, col=\"black\" )\n",
    "  if (all(!is.na(nextGen$births)))\n",
    "  points(x = nextGen$births, y = birthOrder[nextGen$parentID],\n",
    "         pch = 4)\n",
    "  },\n",
    "  gen = g, nextGen = treeN, birthNum = birthNum )"
   ]
  },
  {
   "cell_type": "markdown",
   "metadata": {},
   "source": [
    "# Dan's Workspace\n"
   ]
  },
  {
   "cell_type": "code",
   "execution_count": 5,
   "metadata": {},
   "outputs": [
    {
     "name": "stderr",
     "output_type": "stream",
     "text": [
      "Warning message in is.na(nextGen$births):\n",
      "\"is.na() applied to non-(list or vector) of type 'NULL'\""
     ]
    },
    {
     "data": {
      "text/html": [
       "<ol>\n",
       "\t<li>NULL</li>\n",
       "\t<li>NULL</li>\n",
       "\t<li>NULL</li>\n",
       "\t<li>NULL</li>\n",
       "</ol>\n"
      ],
      "text/latex": [
       "\\begin{enumerate}\n",
       "\\item NULL\n",
       "\\item NULL\n",
       "\\item NULL\n",
       "\\item NULL\n",
       "\\end{enumerate}\n"
      ],
      "text/markdown": [
       "1. NULL\n",
       "2. NULL\n",
       "3. NULL\n",
       "4. NULL\n",
       "\n",
       "\n"
      ],
      "text/plain": [
       "[[1]]\n",
       "NULL\n",
       "\n",
       "[[2]]\n",
       "NULL\n",
       "\n",
       "[[3]]\n",
       "NULL\n",
       "\n",
       "[[4]]\n",
       "NULL\n"
      ]
     },
     "metadata": {},
     "output_type": "display_data"
    },
    {
     "data": {
      "image/png": "[encoded data removed]",
      "text/plain": [
       "plot without title"
      ]
     },
     "metadata": {},
     "output_type": "display_data"
    }
   ],
   "source": [
    "plot(0,0, ylim = c(0.5, numFamily + 0.5), xlim = c(0, maxLife),\n",
    "     xlab = \"Time\", ylab = \"\", type =\"n\",\n",
    "     axes = FALSE)\n",
    "\n",
    "box()\n",
    "axis(1)\n",
    "numGen = length(g)\n",
    "numKids = sapply(g, nrow)\n",
    "treeN = g[ 2:(numGen + 1) ]\n",
    "birthNum = c(0, cumsum(sapply(g, nrow))[ -length(g)])\n",
    "axis(2, at = birthNum + 1, \n",
    "     labels = paste(\"Gen\", 1:numGen), tick = FALSE, las = 1)\n",
    "\n",
    "mapply(function(gen, nextGen, birthNum) {\n",
    "  birthOrder = birthNum + (1:nrow(gen))\n",
    "  if (nrow(gen) == 1){\n",
    "    segments(x0 = gen$births, x1 = gen$completes, y0 = birthOrder,\n",
    "            lwd = 3, col = \"grey\")    \n",
    "  }\n",
    "  else {\n",
    "    segments(x0 = gen$births, x1 = gen$completes, y0 = birthOrder,\n",
    "            lwd = 3, col = birthOrder[gen$parentID])\n",
    "  }\n",
    "  abline(h = 0.5 + max(birthOrder), lty = 2, col=\"black\" )\n",
    "  if (all(!is.na(nextGen$births)))\n",
    "  points(x = nextGen$births, y = birthOrder[nextGen$parentID],\n",
    "         pch = 4)\n",
    "  },\n",
    "  gen = g, nextGen = treeN, birthNum = birthNum )"
   ]
  },
  {
   "cell_type": "code",
   "execution_count": null,
   "metadata": {},
   "outputs": [],
   "source": []
  },
  {
   "cell_type": "code",
   "execution_count": null,
   "metadata": {},
   "outputs": [],
   "source": []
  },
  {
   "cell_type": "code",
   "execution_count": null,
   "metadata": {},
   "outputs": [],
   "source": []
  },
  {
   "cell_type": "code",
   "execution_count": null,
   "metadata": {},
   "outputs": [],
   "source": []
  },
  {
   "cell_type": "markdown",
   "metadata": {},
   "source": [
    "# Sudip's Workspace"
   ]
  },
  {
   "cell_type": "code",
   "execution_count": 6,
   "metadata": {},
   "outputs": [
    {
     "name": "stderr",
     "output_type": "stream",
     "text": [
      "Warning message in is.na(nextGen$births):\n",
      "“is.na() applied to non-(list or vector) of type 'NULL'”"
     ]
    },
    {
     "data": {
      "text/html": [
       "<ol>\n",
       "\t<li>NULL</li>\n",
       "\t<li>NULL</li>\n",
       "\t<li>NULL</li>\n",
       "\t<li>NULL</li>\n",
       "</ol>\n"
      ],
      "text/latex": [
       "\\begin{enumerate}\n",
       "\\item NULL\n",
       "\\item NULL\n",
       "\\item NULL\n",
       "\\item NULL\n",
       "\\end{enumerate}\n"
      ],
      "text/markdown": [
       "1. NULL\n",
       "2. NULL\n",
       "3. NULL\n",
       "4. NULL\n",
       "\n",
       "\n"
      ],
      "text/plain": [
       "[[1]]\n",
       "NULL\n",
       "\n",
       "[[2]]\n",
       "NULL\n",
       "\n",
       "[[3]]\n",
       "NULL\n",
       "\n",
       "[[4]]\n",
       "NULL\n"
      ]
     },
     "metadata": {},
     "output_type": "display_data"
    },
    {
     "data": {
      "image/png": "[encoded data removed]",
      "text/plain": [
       "plot without title"
      ]
     },
     "metadata": {},
     "output_type": "display_data"
    }
   ],
   "source": [
    "plot(0,0, ylim = c(0.5, numFamily + 0.5), xlim = c(0, maxLife),\n",
    "     xlab = \"Time\", ylab = \"\", type =\"n\",\n",
    "     axes = FALSE)\n",
    "\n",
    "box()\n",
    "axis(1)\n",
    "numGen = length(g)\n",
    "numKids = sapply(g, nrow)\n",
    "treeN = g[ 2:(numGen + 1) ]\n",
    "birthNum = c(0, cumsum(sapply(g, nrow))[ -length(g)])\n",
    "axis(2, at = birthNum + 1, \n",
    "     labels = paste(\"Gen\", 1:numGen), tick = FALSE, las = 1)\n",
    "\n",
    "mapply(function(gen, nextGen, birthNum) {\n",
    "  birthOrder = birthNum + (1:nrow(gen))\n",
    "  if (nrow(gen) == 1){\n",
    "    segments(x0 = gen$births, x1 = gen$completes, y0 = birthOrder,\n",
    "            lwd = 3, col = \"grey\")    \n",
    "  }\n",
    "  else {\n",
    "    segments(x0 = gen$births, x1 = gen$completes, y0 = birthOrder,\n",
    "            lwd = 3, col = birthOrder[gen$parentID])\n",
    "  }\n",
    "  abline(h = 0.5 + max(birthOrder), lty = 2, col=\"black\" )\n",
    "  if (all(!is.na(nextGen$births)))\n",
    "  points(x = nextGen$births, y = birthOrder[nextGen$parentID],\n",
    "         pch = 4)\n",
    "  },\n",
    "  gen = g, nextGen = treeN, birthNum = birthNum )"
   ]
  },
  {
   "cell_type": "code",
   "execution_count": null,
   "metadata": {},
   "outputs": [],
   "source": []
  },
  {
   "cell_type": "code",
   "execution_count": null,
   "metadata": {},
   "outputs": [],
   "source": []
  },
  {
   "cell_type": "code",
   "execution_count": null,
   "metadata": {},
   "outputs": [],
   "source": []
  },
  {
   "cell_type": "code",
   "execution_count": null,
   "metadata": {},
   "outputs": [],
   "source": []
  },
  {
   "cell_type": "markdown",
   "metadata": {},
   "source": [
    "# Tim's Workspace"
   ]
  },
  {
   "cell_type": "code",
   "execution_count": 8,
   "metadata": {},
   "outputs": [
    {
     "name": "stderr",
     "output_type": "stream",
     "text": [
      "Warning message in is.na(nextGen$births):\n",
      "“is.na() applied to non-(list or vector) of type 'NULL'”"
     ]
    },
    {
     "data": {
      "text/html": [
       "<ol>\n",
       "\t<li>NULL</li>\n",
       "\t<li>NULL</li>\n",
       "\t<li>NULL</li>\n",
       "\t<li>NULL</li>\n",
       "</ol>\n"
      ],
      "text/latex": [
       "\\begin{enumerate}\n",
       "\\item NULL\n",
       "\\item NULL\n",
       "\\item NULL\n",
       "\\item NULL\n",
       "\\end{enumerate}\n"
      ],
      "text/markdown": [
       "1. NULL\n",
       "2. NULL\n",
       "3. NULL\n",
       "4. NULL\n",
       "\n",
       "\n"
      ],
      "text/plain": [
       "[[1]]\n",
       "NULL\n",
       "\n",
       "[[2]]\n",
       "NULL\n",
       "\n",
       "[[3]]\n",
       "NULL\n",
       "\n",
       "[[4]]\n",
       "NULL\n"
      ]
     },
     "metadata": {},
     "output_type": "display_data"
    },
    {
     "data": {
      "image/png": "[encoded data removed]",
      "text/plain": [
       "plot without title"
      ]
     },
     "metadata": {},
     "output_type": "display_data"
    }
   ],
   "source": [
    "plot(0,0, ylim = c(0.5, numFamily + 0.5), xlim = c(0, maxLife),\n",
    "     xlab = \"Time\", ylab = \"\", type =\"n\",\n",
    "     axes = FALSE)\n",
    "\n",
    "box()\n",
    "axis(1)\n",
    "numGen = length(g)\n",
    "numKids = sapply(g, nrow)\n",
    "treeN = g[ 2:(numGen + 1) ]\n",
    "birthNum = c(0, cumsum(sapply(g, nrow))[ -length(g)])\n",
    "axis(2, at = birthNum + 1, \n",
    "     labels = paste(\"Gen\", 1:numGen), tick = FALSE, las = 1)\n",
    "\n",
    "mapply(function(gen, nextGen, birthNum) {\n",
    "  birthOrder = birthNum + (1:nrow(gen))\n",
    "  if (nrow(gen) == 1){\n",
    "    segments(x0 = gen$births, x1 = gen$completes, y0 = birthOrder,\n",
    "            lwd = 3, col = \"grey\")    \n",
    "  }\n",
    "  else {\n",
    "    segments(x0 = gen$births, x1 = gen$completes, y0 = birthOrder,\n",
    "            lwd = 3, col = birthOrder[gen$parentID])\n",
    "  }\n",
    "  abline(h = 0.5 + max(birthOrder), lty = 2, col=\"black\" )\n",
    "  if (all(!is.na(nextGen$births)))\n",
    "  points(x = nextGen$births, y = birthOrder[nextGen$parentID],\n",
    "         pch = 4)\n",
    "  },\n",
    "  gen = g, nextGen = treeN, birthNum = birthNum )"
   ]
  },
  {
   "cell_type": "code",
   "execution_count": null,
   "metadata": {},
   "outputs": [],
   "source": []
  },
  {
   "cell_type": "code",
   "execution_count": null,
   "metadata": {},
   "outputs": [],
   "source": []
  },
  {
   "cell_type": "code",
   "execution_count": null,
   "metadata": {},
   "outputs": [],
   "source": []
  },
  {
   "cell_type": "code",
   "execution_count": null,
   "metadata": {},
   "outputs": [],
   "source": []
  }
 ],
 "metadata": {
  "kernelspec": {
   "display_name": "R 3.4",
   "language": "R",
   "name": "ir"
  },
  "language_info": {
   "codemirror_mode": "r",
   "file_extension": ".r",
   "mimetype": "text/x-r-source",
   "name": "R",
   "pygments_lexer": "r",
   "version": "3.4.1"
  }
 },
 "nbformat": 4,
 "nbformat_minor": 2
}
