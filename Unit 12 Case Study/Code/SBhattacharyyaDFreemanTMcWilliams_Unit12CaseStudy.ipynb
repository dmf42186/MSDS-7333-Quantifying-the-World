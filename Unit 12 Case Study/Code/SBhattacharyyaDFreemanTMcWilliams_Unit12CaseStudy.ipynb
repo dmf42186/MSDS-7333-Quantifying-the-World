{
 "cells": [
  {
   "cell_type": "code",
   "execution_count": 1,
   "metadata": {},
   "outputs": [],
   "source": [
    "genKids = function(bTimes, cTimes, parentID, lambda = 0.5, kappa = 0.3) {\n",
    "       # Determine how many children each job has\n",
    "  parentAge = cTimes - bTimes\n",
    "  numKids = rpois(n = length(parentAge), lambda = lambda * parentAge)\n",
    "  \n",
    "  if (sum(numKids) == 0) return(NULL)\n",
    "  \n",
    "       # Determine the birth times of the children  \n",
    "  kidStats = \n",
    "    mapply(function(n, min, max) {\n",
    "      births = sort(runif(n, min, max))\n",
    "      runtimes = rexp(n, rate = kappa)\n",
    "      completes = rep(max, n) + runtimes\n",
    "      data.frame(births, completes)\n",
    "    },\n",
    "           n = numKids , min = bTimes, max = cTimes, \n",
    "           SIMPLIFY = FALSE)\n",
    "  \n",
    " \n",
    "  return(data.frame(parentID = rep(parentID, numKids),\n",
    "                    kidID = 1:sum(numKids), \n",
    "                    births = unlist(lapply(kidStats, \"[[\", \"births\")), \n",
    "                    completes = unlist(lapply(kidStats,\"[[\", \"completes\"))\n",
    "                    ))\n",
    "}"
   ]
  },
  {
   "cell_type": "code",
   "execution_count": 21,
   "metadata": {},
   "outputs": [
    {
     "data": {
      "text/html": [
       "<table>\n",
       "<thead><tr><th scope=col>parentID</th><th scope=col>kidID</th><th scope=col>births</th><th scope=col>completes</th></tr></thead>\n",
       "<tbody>\n",
       "\t<tr><td>NA       </td><td>1        </td><td>0.1141938</td><td>14.9441  </td></tr>\n",
       "</tbody>\n",
       "</table>\n"
      ],
      "text/latex": [
       "\\begin{tabular}{r|llll}\n",
       " parentID & kidID & births & completes\\\\\n",
       "\\hline\n",
       "\t NA        & 1         & 0.1141938 & 14.9441  \\\\\n",
       "\\end{tabular}\n"
      ],
      "text/markdown": [
       "\n",
       "parentID | kidID | births | completes | \n",
       "|---|\n",
       "| NA        | 1         | 0.1141938 | 14.9441   | \n",
       "\n",
       "\n"
      ],
      "text/plain": [
       "  parentID kidID births    completes\n",
       "1 NA       1     0.1141938 14.9441  "
      ]
     },
     "metadata": {},
     "output_type": "display_data"
    }
   ],
   "source": [
    "genKids(0, 1, NA, 0.5, 0.3)"
   ]
  },
  {
   "cell_type": "code",
   "execution_count": 2,
   "metadata": {},
   "outputs": [],
   "source": [
    "familyTree = function(lambda = 0.5, kappa = 0.3, maxGen = 10) {\n",
    "  # maxGen - maximum number of generations to observe\n",
    "  # Return value - a list with 1 data frame per generation.\n",
    "  allGens = vector(mode = \"list\", length = maxGen)\n",
    "  \n",
    "  # Generate the root of the tree\n",
    "  allGens[[1]] = data.frame(parentID = NA, kidID = 1, births = 0,\n",
    "                            completes = rexp(1, rate = kappa))\n",
    "  \n",
    "  # Generate future generations, one at a time.\n",
    "  for (i in 2:maxGen) {\n",
    "    nextGen = genKids(bTimes = allGens[[ (i - 1) ]]$births,\n",
    "                       cTimes = allGens[[ (i - 1) ]]$completes,\n",
    "                       parentID = allGens[[ (i - 1) ]]$kidID,\n",
    "                       lambda = lambda, kappa = kappa)\n",
    "    if (is.null(nextGen)) return(allGens[ 1:(i - 1) ])\n",
    "    allGens[[ i ]] = nextGen\n",
    "  }\n",
    "  \n",
    "  return(allGens)\n",
    "}"
   ]
  },
  {
   "cell_type": "code",
   "execution_count": 22,
   "metadata": {},
   "outputs": [
    {
     "data": {
      "text/html": [
       "<ol>\n",
       "\t<li><table>\n",
       "<thead><tr><th scope=col>parentID</th><th scope=col>kidID</th><th scope=col>births</th><th scope=col>completes</th></tr></thead>\n",
       "<tbody>\n",
       "\t<tr><td>NA      </td><td>1       </td><td>0       </td><td>7.730216</td></tr>\n",
       "</tbody>\n",
       "</table>\n",
       "</li>\n",
       "\t<li><table>\n",
       "<thead><tr><th scope=col>parentID</th><th scope=col>kidID</th><th scope=col>births</th><th scope=col>completes</th></tr></thead>\n",
       "<tbody>\n",
       "\t<tr><td>1        </td><td>1        </td><td>1.630282 </td><td>10.659611</td></tr>\n",
       "\t<tr><td>1        </td><td>2        </td><td>4.801337 </td><td>11.583503</td></tr>\n",
       "\t<tr><td>1        </td><td>3        </td><td>5.304041 </td><td> 9.519773</td></tr>\n",
       "\t<tr><td>1        </td><td>4        </td><td>6.340001 </td><td>13.879598</td></tr>\n",
       "</tbody>\n",
       "</table>\n",
       "</li>\n",
       "\t<li><table>\n",
       "<thead><tr><th scope=col>parentID</th><th scope=col>kidID</th><th scope=col>births</th><th scope=col>completes</th></tr></thead>\n",
       "<tbody>\n",
       "\t<tr><td>1       </td><td> 1      </td><td>3.114654</td><td>10.87029</td></tr>\n",
       "\t<tr><td>1       </td><td> 2      </td><td>5.266424</td><td>11.75423</td></tr>\n",
       "\t<tr><td>1       </td><td> 3      </td><td>5.477547</td><td>19.01639</td></tr>\n",
       "\t<tr><td>1       </td><td> 4      </td><td>6.235651</td><td>14.72795</td></tr>\n",
       "\t<tr><td>1       </td><td> 5      </td><td>6.322852</td><td>11.85526</td></tr>\n",
       "\t<tr><td>1       </td><td> 6      </td><td>8.734475</td><td>11.59822</td></tr>\n",
       "\t<tr><td>1       </td><td> 7      </td><td>9.859066</td><td>10.68623</td></tr>\n",
       "\t<tr><td>2       </td><td> 8      </td><td>8.024070</td><td>12.02093</td></tr>\n",
       "\t<tr><td>3       </td><td> 9      </td><td>6.530571</td><td>11.14012</td></tr>\n",
       "\t<tr><td>3       </td><td>10      </td><td>7.331530</td><td>10.22969</td></tr>\n",
       "\t<tr><td>3       </td><td>11      </td><td>8.639740</td><td>10.73554</td></tr>\n",
       "</tbody>\n",
       "</table>\n",
       "</li>\n",
       "</ol>\n"
      ],
      "text/latex": [
       "\\begin{enumerate}\n",
       "\\item \\begin{tabular}{r|llll}\n",
       " parentID & kidID & births & completes\\\\\n",
       "\\hline\n",
       "\t NA       & 1        & 0        & 7.730216\\\\\n",
       "\\end{tabular}\n",
       "\n",
       "\\item \\begin{tabular}{r|llll}\n",
       " parentID & kidID & births & completes\\\\\n",
       "\\hline\n",
       "\t 1         & 1         & 1.630282  & 10.659611\\\\\n",
       "\t 1         & 2         & 4.801337  & 11.583503\\\\\n",
       "\t 1         & 3         & 5.304041  &  9.519773\\\\\n",
       "\t 1         & 4         & 6.340001  & 13.879598\\\\\n",
       "\\end{tabular}\n",
       "\n",
       "\\item \\begin{tabular}{r|llll}\n",
       " parentID & kidID & births & completes\\\\\n",
       "\\hline\n",
       "\t 1        &  1       & 3.114654 & 10.87029\\\\\n",
       "\t 1        &  2       & 5.266424 & 11.75423\\\\\n",
       "\t 1        &  3       & 5.477547 & 19.01639\\\\\n",
       "\t 1        &  4       & 6.235651 & 14.72795\\\\\n",
       "\t 1        &  5       & 6.322852 & 11.85526\\\\\n",
       "\t 1        &  6       & 8.734475 & 11.59822\\\\\n",
       "\t 1        &  7       & 9.859066 & 10.68623\\\\\n",
       "\t 2        &  8       & 8.024070 & 12.02093\\\\\n",
       "\t 3        &  9       & 6.530571 & 11.14012\\\\\n",
       "\t 3        & 10       & 7.331530 & 10.22969\\\\\n",
       "\t 3        & 11       & 8.639740 & 10.73554\\\\\n",
       "\\end{tabular}\n",
       "\n",
       "\\end{enumerate}\n"
      ],
      "text/markdown": [
       "1. \n",
       "parentID | kidID | births | completes | \n",
       "|---|\n",
       "| NA       | 1        | 0        | 7.730216 | \n",
       "\n",
       "\n",
       "\n",
       "2. \n",
       "parentID | kidID | births | completes | \n",
       "|---|---|---|---|\n",
       "| 1         | 1         | 1.630282  | 10.659611 | \n",
       "| 1         | 2         | 4.801337  | 11.583503 | \n",
       "| 1         | 3         | 5.304041  |  9.519773 | \n",
       "| 1         | 4         | 6.340001  | 13.879598 | \n",
       "\n",
       "\n",
       "\n",
       "3. \n",
       "parentID | kidID | births | completes | \n",
       "|---|---|---|---|---|---|---|---|---|---|---|\n",
       "| 1        |  1       | 3.114654 | 10.87029 | \n",
       "| 1        |  2       | 5.266424 | 11.75423 | \n",
       "| 1        |  3       | 5.477547 | 19.01639 | \n",
       "| 1        |  4       | 6.235651 | 14.72795 | \n",
       "| 1        |  5       | 6.322852 | 11.85526 | \n",
       "| 1        |  6       | 8.734475 | 11.59822 | \n",
       "| 1        |  7       | 9.859066 | 10.68623 | \n",
       "| 2        |  8       | 8.024070 | 12.02093 | \n",
       "| 3        |  9       | 6.530571 | 11.14012 | \n",
       "| 3        | 10       | 7.331530 | 10.22969 | \n",
       "| 3        | 11       | 8.639740 | 10.73554 | \n",
       "\n",
       "\n",
       "\n",
       "\n",
       "\n"
      ],
      "text/plain": [
       "[[1]]\n",
       "  parentID kidID births completes\n",
       "1       NA     1      0  7.730216\n",
       "\n",
       "[[2]]\n",
       "  parentID kidID   births completes\n",
       "1        1     1 1.630282 10.659611\n",
       "2        1     2 4.801337 11.583503\n",
       "3        1     3 5.304041  9.519773\n",
       "4        1     4 6.340001 13.879598\n",
       "\n",
       "[[3]]\n",
       "   parentID kidID   births completes\n",
       "1         1     1 3.114654  10.87029\n",
       "2         1     2 5.266424  11.75423\n",
       "3         1     3 5.477547  19.01639\n",
       "4         1     4 6.235651  14.72795\n",
       "5         1     5 6.322852  11.85526\n",
       "6         1     6 8.734475  11.59822\n",
       "7         1     7 9.859066  10.68623\n",
       "8         2     8 8.024070  12.02093\n",
       "9         3     9 6.530571  11.14012\n",
       "10        3    10 7.331530  10.22969\n",
       "11        3    11 8.639740  10.73554\n"
      ]
     },
     "metadata": {},
     "output_type": "display_data"
    }
   ],
   "source": [
    "familyTree(0.5, 0.3, 3)"
   ]
  },
  {
   "cell_type": "code",
   "execution_count": 3,
   "metadata": {},
   "outputs": [],
   "source": [
    "seed1 = 12062013\n",
    "set.seed(seed1)\n",
    "tree = familyTree(lambda = 0.4, kappa = 1, maxGen = 10)"
   ]
  },
  {
   "cell_type": "code",
   "execution_count": 4,
   "metadata": {},
   "outputs": [
    {
     "data": {
      "text/html": [
       "<ol>\n",
       "\t<li><table>\n",
       "<thead><tr><th scope=col>parentID</th><th scope=col>kidID</th><th scope=col>births</th><th scope=col>completes</th></tr></thead>\n",
       "<tbody>\n",
       "\t<tr><td>NA       </td><td>1        </td><td>0        </td><td>0.8244658</td></tr>\n",
       "</tbody>\n",
       "</table>\n",
       "</li>\n",
       "\t<li><table>\n",
       "<thead><tr><th scope=col>parentID</th><th scope=col>kidID</th><th scope=col>births</th><th scope=col>completes</th></tr></thead>\n",
       "<tbody>\n",
       "\t<tr><td>1        </td><td>1        </td><td>0.1908525</td><td>0.9280697</td></tr>\n",
       "\t<tr><td>1        </td><td>2        </td><td>0.4631948</td><td>4.6525607</td></tr>\n",
       "</tbody>\n",
       "</table>\n",
       "</li>\n",
       "\t<li><table>\n",
       "<thead><tr><th scope=col>parentID</th><th scope=col>kidID</th><th scope=col>births</th><th scope=col>completes</th></tr></thead>\n",
       "<tbody>\n",
       "\t<tr><td>1        </td><td>1        </td><td>0.2921203</td><td>2.479967 </td></tr>\n",
       "\t<tr><td>1        </td><td>2        </td><td>0.7177455</td><td>2.737410 </td></tr>\n",
       "\t<tr><td>2        </td><td>3        </td><td>1.3348405</td><td>4.782500 </td></tr>\n",
       "</tbody>\n",
       "</table>\n",
       "</li>\n",
       "\t<li><table>\n",
       "<thead><tr><th scope=col>parentID</th><th scope=col>kidID</th><th scope=col>births</th><th scope=col>completes</th></tr></thead>\n",
       "<tbody>\n",
       "\t<tr><td>2       </td><td>1       </td><td>2.574217</td><td>4.291288</td></tr>\n",
       "\t<tr><td>3       </td><td>2       </td><td>2.593132</td><td>5.500965</td></tr>\n",
       "\t<tr><td>3       </td><td>3       </td><td>3.111784</td><td>4.834751</td></tr>\n",
       "</tbody>\n",
       "</table>\n",
       "</li>\n",
       "</ol>\n"
      ],
      "text/latex": [
       "\\begin{enumerate}\n",
       "\\item \\begin{tabular}{r|llll}\n",
       " parentID & kidID & births & completes\\\\\n",
       "\\hline\n",
       "\t NA        & 1         & 0         & 0.8244658\\\\\n",
       "\\end{tabular}\n",
       "\n",
       "\\item \\begin{tabular}{r|llll}\n",
       " parentID & kidID & births & completes\\\\\n",
       "\\hline\n",
       "\t 1         & 1         & 0.1908525 & 0.9280697\\\\\n",
       "\t 1         & 2         & 0.4631948 & 4.6525607\\\\\n",
       "\\end{tabular}\n",
       "\n",
       "\\item \\begin{tabular}{r|llll}\n",
       " parentID & kidID & births & completes\\\\\n",
       "\\hline\n",
       "\t 1         & 1         & 0.2921203 & 2.479967 \\\\\n",
       "\t 1         & 2         & 0.7177455 & 2.737410 \\\\\n",
       "\t 2         & 3         & 1.3348405 & 4.782500 \\\\\n",
       "\\end{tabular}\n",
       "\n",
       "\\item \\begin{tabular}{r|llll}\n",
       " parentID & kidID & births & completes\\\\\n",
       "\\hline\n",
       "\t 2        & 1        & 2.574217 & 4.291288\\\\\n",
       "\t 3        & 2        & 2.593132 & 5.500965\\\\\n",
       "\t 3        & 3        & 3.111784 & 4.834751\\\\\n",
       "\\end{tabular}\n",
       "\n",
       "\\end{enumerate}\n"
      ],
      "text/markdown": [
       "1. \n",
       "parentID | kidID | births | completes | \n",
       "|---|\n",
       "| NA        | 1         | 0         | 0.8244658 | \n",
       "\n",
       "\n",
       "\n",
       "2. \n",
       "parentID | kidID | births | completes | \n",
       "|---|---|\n",
       "| 1         | 1         | 0.1908525 | 0.9280697 | \n",
       "| 1         | 2         | 0.4631948 | 4.6525607 | \n",
       "\n",
       "\n",
       "\n",
       "3. \n",
       "parentID | kidID | births | completes | \n",
       "|---|---|---|\n",
       "| 1         | 1         | 0.2921203 | 2.479967  | \n",
       "| 1         | 2         | 0.7177455 | 2.737410  | \n",
       "| 2         | 3         | 1.3348405 | 4.782500  | \n",
       "\n",
       "\n",
       "\n",
       "4. \n",
       "parentID | kidID | births | completes | \n",
       "|---|---|---|\n",
       "| 2        | 1        | 2.574217 | 4.291288 | \n",
       "| 3        | 2        | 2.593132 | 5.500965 | \n",
       "| 3        | 3        | 3.111784 | 4.834751 | \n",
       "\n",
       "\n",
       "\n",
       "\n",
       "\n"
      ],
      "text/plain": [
       "[[1]]\n",
       "  parentID kidID births completes\n",
       "1       NA     1      0 0.8244658\n",
       "\n",
       "[[2]]\n",
       "  parentID kidID    births completes\n",
       "1        1     1 0.1908525 0.9280697\n",
       "2        1     2 0.4631948 4.6525607\n",
       "\n",
       "[[3]]\n",
       "  parentID kidID    births completes\n",
       "1        1     1 0.2921203  2.479967\n",
       "2        1     2 0.7177455  2.737410\n",
       "3        2     3 1.3348405  4.782500\n",
       "\n",
       "[[4]]\n",
       "  parentID kidID   births completes\n",
       "1        2     1 2.574217  4.291288\n",
       "2        3     2 2.593132  5.500965\n",
       "3        3     3 3.111784  4.834751\n"
      ]
     },
     "metadata": {},
     "output_type": "display_data"
    }
   ],
   "source": [
    "tree"
   ]
  },
  {
   "cell_type": "code",
   "execution_count": 5,
   "metadata": {},
   "outputs": [
    {
     "data": {
      "text/html": [
       "5.50096481398723"
      ],
      "text/latex": [
       "5.50096481398723"
      ],
      "text/markdown": [
       "5.50096481398723"
      ],
      "text/plain": [
       "[1] 5.500965"
      ]
     },
     "metadata": {},
     "output_type": "display_data"
    },
    {
     "data": {
      "text/html": [
       "9"
      ],
      "text/latex": [
       "9"
      ],
      "text/markdown": [
       "9"
      ],
      "text/plain": [
       "[1] 9"
      ]
     },
     "metadata": {},
     "output_type": "display_data"
    },
    {
     "name": "stderr",
     "output_type": "stream",
     "text": [
      "Warning message in is.na(nextGen$births):\n",
      "\"is.na() applied to non-(list or vector) of type 'NULL'\""
     ]
    },
    {
     "data": {
      "text/html": [
       "<ol>\n",
       "\t<li>NULL</li>\n",
       "\t<li>NULL</li>\n",
       "\t<li>NULL</li>\n",
       "\t<li>NULL</li>\n",
       "</ol>\n"
      ],
      "text/latex": [
       "\\begin{enumerate}\n",
       "\\item NULL\n",
       "\\item NULL\n",
       "\\item NULL\n",
       "\\item NULL\n",
       "\\end{enumerate}\n"
      ],
      "text/markdown": [
       "1. NULL\n",
       "2. NULL\n",
       "3. NULL\n",
       "4. NULL\n",
       "\n",
       "\n"
      ],
      "text/plain": [
       "[[1]]\n",
       "NULL\n",
       "\n",
       "[[2]]\n",
       "NULL\n",
       "\n",
       "[[3]]\n",
       "NULL\n",
       "\n",
       "[[4]]\n",
       "NULL\n"
      ]
     },
     "metadata": {},
     "output_type": "display_data"
    },
    {
     "data": {
      "image/png": "[encoded data removed]",
      "text/plain": [
       "plot without title"
      ]
     },
     "metadata": {},
     "output_type": "display_data"
    }
   ],
   "source": [
    "set.seed(seed1)\n",
    "g = familyTree(lambda = 0.4, kappa = 1, maxGen = 10)\n",
    "\n",
    "maxLife = max(sapply(g, function(gen) max(gen$completes)))\n",
    "numFamily = sum(sapply(g, nrow))\n",
    "maxLife\n",
    "numFamily\n",
    "                     \n",
    "plot(0,0, ylim = c(0.5, numFamily + 0.5), xlim = c(0, maxLife),\n",
    "     xlab = \"Time\", ylab = \"\", type =\"n\",\n",
    "     axes = FALSE)\n",
    "\n",
    "box()\n",
    "axis(1)\n",
    "numGen = length(g)\n",
    "numKids = sapply(g, nrow)\n",
    "treeN = g[ 2:(numGen + 1) ]\n",
    "birthNum = c(0, cumsum(sapply(g, nrow))[ -length(g)])\n",
    "axis(2, at = birthNum + 1, \n",
    "     labels = paste(\"Gen\", 1:numGen), tick = FALSE, las = 1)\n",
    "\n",
    "mapply(function(gen, nextGen, birthNum) {\n",
    "  birthOrder = birthNum + (1:nrow(gen))\n",
    "  segments(x0 = gen$births, x1 = gen$completes, y0 = birthOrder,\n",
    "          lwd = 3, col = \"grey\")\n",
    "  abline(h = 0.5 + max(birthOrder), lty = 2, col=\"black\" )\n",
    "  if (all(!is.na(nextGen$births)))\n",
    "  points(x = nextGen$births, y = birthOrder[nextGen$parentID],\n",
    "         pch = 4)\n",
    "  },\n",
    "  gen = g, nextGen = treeN, birthNum = birthNum )"
   ]
  },
  {
   "cell_type": "code",
   "execution_count": 6,
   "metadata": {},
   "outputs": [
    {
     "data": {
      "text/html": [
       "<ol>\n",
       "\t<li><table>\n",
       "<thead><tr><th scope=col>parentID</th><th scope=col>kidID</th><th scope=col>births</th><th scope=col>completes</th></tr></thead>\n",
       "<tbody>\n",
       "\t<tr><td>NA       </td><td>1        </td><td>0        </td><td>0.8244658</td></tr>\n",
       "</tbody>\n",
       "</table>\n",
       "</li>\n",
       "\t<li><table>\n",
       "<thead><tr><th scope=col>parentID</th><th scope=col>kidID</th><th scope=col>births</th><th scope=col>completes</th></tr></thead>\n",
       "<tbody>\n",
       "\t<tr><td>1        </td><td>1        </td><td>0.1908525</td><td>0.9280697</td></tr>\n",
       "\t<tr><td>1        </td><td>2        </td><td>0.4631948</td><td>4.6525607</td></tr>\n",
       "</tbody>\n",
       "</table>\n",
       "</li>\n",
       "\t<li><table>\n",
       "<thead><tr><th scope=col>parentID</th><th scope=col>kidID</th><th scope=col>births</th><th scope=col>completes</th></tr></thead>\n",
       "<tbody>\n",
       "\t<tr><td>1        </td><td>1        </td><td>0.2921203</td><td>2.479967 </td></tr>\n",
       "\t<tr><td>1        </td><td>2        </td><td>0.7177455</td><td>2.737410 </td></tr>\n",
       "\t<tr><td>2        </td><td>3        </td><td>1.3348405</td><td>4.782500 </td></tr>\n",
       "</tbody>\n",
       "</table>\n",
       "</li>\n",
       "\t<li><table>\n",
       "<thead><tr><th scope=col>parentID</th><th scope=col>kidID</th><th scope=col>births</th><th scope=col>completes</th></tr></thead>\n",
       "<tbody>\n",
       "\t<tr><td>2       </td><td>1       </td><td>2.574217</td><td>4.291288</td></tr>\n",
       "\t<tr><td>3       </td><td>2       </td><td>2.593132</td><td>5.500965</td></tr>\n",
       "\t<tr><td>3       </td><td>3       </td><td>3.111784</td><td>4.834751</td></tr>\n",
       "</tbody>\n",
       "</table>\n",
       "</li>\n",
       "</ol>\n"
      ],
      "text/latex": [
       "\\begin{enumerate}\n",
       "\\item \\begin{tabular}{r|llll}\n",
       " parentID & kidID & births & completes\\\\\n",
       "\\hline\n",
       "\t NA        & 1         & 0         & 0.8244658\\\\\n",
       "\\end{tabular}\n",
       "\n",
       "\\item \\begin{tabular}{r|llll}\n",
       " parentID & kidID & births & completes\\\\\n",
       "\\hline\n",
       "\t 1         & 1         & 0.1908525 & 0.9280697\\\\\n",
       "\t 1         & 2         & 0.4631948 & 4.6525607\\\\\n",
       "\\end{tabular}\n",
       "\n",
       "\\item \\begin{tabular}{r|llll}\n",
       " parentID & kidID & births & completes\\\\\n",
       "\\hline\n",
       "\t 1         & 1         & 0.2921203 & 2.479967 \\\\\n",
       "\t 1         & 2         & 0.7177455 & 2.737410 \\\\\n",
       "\t 2         & 3         & 1.3348405 & 4.782500 \\\\\n",
       "\\end{tabular}\n",
       "\n",
       "\\item \\begin{tabular}{r|llll}\n",
       " parentID & kidID & births & completes\\\\\n",
       "\\hline\n",
       "\t 2        & 1        & 2.574217 & 4.291288\\\\\n",
       "\t 3        & 2        & 2.593132 & 5.500965\\\\\n",
       "\t 3        & 3        & 3.111784 & 4.834751\\\\\n",
       "\\end{tabular}\n",
       "\n",
       "\\end{enumerate}\n"
      ],
      "text/markdown": [
       "1. \n",
       "parentID | kidID | births | completes | \n",
       "|---|\n",
       "| NA        | 1         | 0         | 0.8244658 | \n",
       "\n",
       "\n",
       "\n",
       "2. \n",
       "parentID | kidID | births | completes | \n",
       "|---|---|\n",
       "| 1         | 1         | 0.1908525 | 0.9280697 | \n",
       "| 1         | 2         | 0.4631948 | 4.6525607 | \n",
       "\n",
       "\n",
       "\n",
       "3. \n",
       "parentID | kidID | births | completes | \n",
       "|---|---|---|\n",
       "| 1         | 1         | 0.2921203 | 2.479967  | \n",
       "| 1         | 2         | 0.7177455 | 2.737410  | \n",
       "| 2         | 3         | 1.3348405 | 4.782500  | \n",
       "\n",
       "\n",
       "\n",
       "4. \n",
       "parentID | kidID | births | completes | \n",
       "|---|---|---|\n",
       "| 2        | 1        | 2.574217 | 4.291288 | \n",
       "| 3        | 2        | 2.593132 | 5.500965 | \n",
       "| 3        | 3        | 3.111784 | 4.834751 | \n",
       "\n",
       "\n",
       "\n",
       "\n",
       "\n"
      ],
      "text/plain": [
       "[[1]]\n",
       "  parentID kidID births completes\n",
       "1       NA     1      0 0.8244658\n",
       "\n",
       "[[2]]\n",
       "  parentID kidID    births completes\n",
       "1        1     1 0.1908525 0.9280697\n",
       "2        1     2 0.4631948 4.6525607\n",
       "\n",
       "[[3]]\n",
       "  parentID kidID    births completes\n",
       "1        1     1 0.2921203  2.479967\n",
       "2        1     2 0.7177455  2.737410\n",
       "3        2     3 1.3348405  4.782500\n",
       "\n",
       "[[4]]\n",
       "  parentID kidID   births completes\n",
       "1        2     1 2.574217  4.291288\n",
       "2        3     2 2.593132  5.500965\n",
       "3        3     3 3.111784  4.834751\n"
      ]
     },
     "metadata": {},
     "output_type": "display_data"
    },
    {
     "data": {
      "text/html": [
       "5.50096481398723"
      ],
      "text/latex": [
       "5.50096481398723"
      ],
      "text/markdown": [
       "5.50096481398723"
      ],
      "text/plain": [
       "[1] 5.500965"
      ]
     },
     "metadata": {},
     "output_type": "display_data"
    },
    {
     "data": {
      "text/html": [
       "9"
      ],
      "text/latex": [
       "9"
      ],
      "text/markdown": [
       "9"
      ],
      "text/plain": [
       "[1] 9"
      ]
     },
     "metadata": {},
     "output_type": "display_data"
    },
    {
     "name": "stderr",
     "output_type": "stream",
     "text": [
      "Warning message in is.na(nextGen$births):\n",
      "\"is.na() applied to non-(list or vector) of type 'NULL'\""
     ]
    },
    {
     "data": {
      "text/html": [
       "<ol>\n",
       "\t<li>NULL</li>\n",
       "\t<li>NULL</li>\n",
       "\t<li>NULL</li>\n",
       "\t<li>NULL</li>\n",
       "</ol>\n"
      ],
      "text/latex": [
       "\\begin{enumerate}\n",
       "\\item NULL\n",
       "\\item NULL\n",
       "\\item NULL\n",
       "\\item NULL\n",
       "\\end{enumerate}\n"
      ],
      "text/markdown": [
       "1. NULL\n",
       "2. NULL\n",
       "3. NULL\n",
       "4. NULL\n",
       "\n",
       "\n"
      ],
      "text/plain": [
       "[[1]]\n",
       "NULL\n",
       "\n",
       "[[2]]\n",
       "NULL\n",
       "\n",
       "[[3]]\n",
       "NULL\n",
       "\n",
       "[[4]]\n",
       "NULL\n"
      ]
     },
     "metadata": {},
     "output_type": "display_data"
    },
    {
     "data": {
      "image/png": "[encoded data removed]",
      "text/plain": [
       "plot without title"
      ]
     },
     "metadata": {},
     "output_type": "display_data"
    }
   ],
   "source": [
    "seed1 = 12062013\n",
    "set.seed(seed1)\n",
    "g = familyTree(lambda = 0.4, kappa = 1, maxGen = 10)\n",
    "g\n",
    "\n",
    "maxLife = max(sapply(g, function(gen) max(gen$completes)))\n",
    "numFamily = sum(sapply(g, nrow))\n",
    "maxLife\n",
    "numFamily\n",
    "\n",
    "plot(0,0, xlim = c(0.5, numFamily + 0.5), ylim = c(0, maxLife),\n",
    "     xlab = \"\", ylab = \"Time\", type =\"n\",\n",
    "     axes = FALSE)\n",
    "\n",
    "box()\n",
    "axis(2)\n",
    "numGen = length(g)\n",
    "numKids = sapply(g, nrow)\n",
    "treeN = g[ 2:(numGen + 1) ]\n",
    "birthNum = c(0, cumsum(sapply(g, nrow))[ -length(g)])\n",
    "axis(1, at = birthNum + 1, \n",
    "     labels = paste(\"Gen\", 1:numGen), tick = FALSE, las = 1)\n",
    "\n",
    "                  \n",
    "                     \n",
    "mapply(function(gen, nextGen, birthNum) {\n",
    "  birthOrder = birthNum + (1:nrow(gen))\n",
    "  segments(y0 = gen$births, y1 = gen$completes, x0 = birthOrder,\n",
    "          lwd = 3, col = \"red\")\n",
    "  abline(v = 0.5 + max(birthOrder), lty = 2, col=\"black\" )\n",
    "  if (all(!is.na(nextGen$births)))\n",
    "  points(y = nextGen$births, x = birthOrder[nextGen$parentID],\n",
    "         pch = 4)\n",
    "  },\n",
    "  gen = g, nextGen = treeN, birthNum = birthNum )"
   ]
  },
  {
   "cell_type": "code",
   "execution_count": null,
   "metadata": {},
   "outputs": [],
   "source": []
  }
 ],
 "metadata": {
  "anaconda-cloud": {},
  "kernelspec": {
   "display_name": "R",
   "language": "R",
   "name": "ir"
  },
  "language_info": {
   "codemirror_mode": "r",
   "file_extension": ".r",
   "mimetype": "text/x-r-source",
   "name": "R",
   "pygments_lexer": "r",
   "version": "3.3.2"
  }
 },
 "nbformat": 4,
 "nbformat_minor": 2
}
