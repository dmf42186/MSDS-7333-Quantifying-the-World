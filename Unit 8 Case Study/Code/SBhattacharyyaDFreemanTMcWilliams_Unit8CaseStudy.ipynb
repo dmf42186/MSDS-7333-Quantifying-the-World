{
 "cells": [
  {
   "cell_type": "code",
   "execution_count": 1,
   "metadata": {},
   "outputs": [
    {
     "data": {
      "text/html": [
       "'/home/science/dan_sudip_tim/MSDS-7333-Quantifying-the-World/Untitled Folder'"
      ],
      "text/latex": [
       "'/home/science/dan\\_sudip\\_tim/MSDS-7333-Quantifying-the-World/Untitled Folder'"
      ],
      "text/markdown": [
       "'/home/science/dan_sudip_tim/MSDS-7333-Quantifying-the-World/Untitled Folder'"
      ],
      "text/plain": [
       "[1] \"/home/science/dan_sudip_tim/MSDS-7333-Quantifying-the-World/Untitled Folder\""
      ]
     },
     "metadata": {},
     "output_type": "display_data"
    }
   ],
   "source": [
    "getwd()"
   ]
  },
  {
   "cell_type": "markdown",
   "metadata": {},
   "source": [
    "### Q.7 Follow the approach developed in Section 2.2 to read the files for the female runners and then process them using the functions in Section 2.3 to create a data frame for analysis. You may need to generalize the createDF() and extractVariables() functions to handle additional oddities in the raw text files."
   ]
  },
  {
   "cell_type": "markdown",
   "metadata": {},
   "source": [
    "Create a function to extract the columns so we can apply it to each year’s data. This function calls our helper functions findColLocs() and selectCols(). Our function might look like"
   ]
  },
  {
   "cell_type": "code",
   "execution_count": 58,
   "metadata": {},
   "outputs": [],
   "source": [
    "femalefilenames = paste(\"/home/science/dan_sudip_tim/MSDS-7333-Quantifying-the-World/Untitled Folder/\", 1999:2012, \".txt\", sep = \"\")\n",
    "femaleFiles = lapply(femalefilenames, readLines)\n",
    "names(femaleFiles) = 1999:2012"
   ]
  },
  {
   "cell_type": "code",
   "execution_count": 31,
   "metadata": {},
   "outputs": [],
   "source": [
    "extractVariables = \n",
    "  function(file, varNames =c(\"name\", \"home\", \"ag\", \"gun\",\n",
    "                             \"net\", \"time\"))\n",
    "{\n",
    "       # Find the index of the row with =s\n",
    "  eqIndex = grep(\"^===\", file)\n",
    "       # Extract the two key rows and the data\n",
    "  spacerRow = file[eqIndex] \n",
    "  headerRow = tolower(file[ eqIndex - 1 ])\n",
    "  body = file[ -(1 : eqIndex) ]\n",
    "       \n",
    "       # Obtain the starting and ending positions of variables\n",
    "  searchLocs = findColLocs(spacerRow)\n",
    "  locCols = selectCols(varNames, headerRow, searchLocs)\n",
    "\n",
    "  Values = mapply(substr, list(body), start = locCols[1, ], \n",
    "                  stop = locCols[2, ])\n",
    "  colnames(Values) = varNames\n",
    "  \n",
    "  invisible(Values)\n",
    "}"
   ]
  },
  {
   "cell_type": "code",
   "execution_count": 32,
   "metadata": {},
   "outputs": [
    {
     "ename": "ERROR",
     "evalue": "Error in 1:eqIndex: argument of length 0\n",
     "output_type": "error",
     "traceback": [
      "Error in 1:eqIndex: argument of length 0\nTraceback:\n",
      "1. lapply(femaleFiles, extractVariables)",
      "2. FUN(X[[i]], ...)"
     ]
    }
   ],
   "source": [
    "femaleResMat = lapply(femaleFiles, extractVariables)\n",
    "length(femaleResMat)"
   ]
  },
  {
   "cell_type": "markdown",
   "metadata": {},
   "source": [
    "This function call errors out because of the years 2000 and 2001. They do not have the *====* at the begning of the file. But the mens files do. So we will take the *==* from a mens file and slap it into the females 2000 and 2001 fiels. "
   ]
  },
  {
   "cell_type": "code",
   "execution_count": 33,
   "metadata": {},
   "outputs": [
    {
     "data": {
      "text/html": [
       "<ol class=list-inline>\n",
       "\t<li>'Nortel Networks Cherry Blossom 10mile Road Race'</li>\n",
       "\t<li>'Washington, DC *** April 8, 2001'</li>\n",
       "\t<li>'| Men | Women | '</li>\n",
       "\t<li>'Official Results - WOMEN '</li>\n",
       "\t<li>' *** Gun Time is the Official Time '</li>\n",
       "\t<li>''</li>\n",
       "\t<li><span style=white-space:pre-wrap>'                                                                 '</span></li>\n",
       "\t<li><span style=white-space:pre-wrap>'                      '</span></li>\n",
       "\t<li><span style=white-space:pre-wrap>'    1  6002 Elana MEYER           34 Rep Of S.africa      52:15   52:16#'</span></li>\n",
       "\t<li><span style=white-space:pre-wrap>'    2  6004 Lydia GRIGORIEVA      27 Russia               53:12   53:15#'</span></li>\n",
       "\t<li><span style=white-space:pre-wrap>'    3  6019 Eyerusalem KUMA       20 Ethiopia             53:16   53:19#'</span></li>\n",
       "\t<li><span style=white-space:pre-wrap>'    4  6007 Milena GLUSAC         25 Usa                  53:33   53:34#'</span></li>\n",
       "\t<li><span style=white-space:pre-wrap>'    5  6012 Olga KOVPOTINA        31 Russia               54:01   54:03#'</span></li>\n",
       "\t<li><span style=white-space:pre-wrap>'    6  6020 Merima HASHIM         20 Ethiopia             54:29   54:31#'</span></li>\n",
       "\t<li><span style=white-space:pre-wrap>'    7  6005 Jane OMORO            27 Kenya                55:05   55:08#'</span></li>\n",
       "</ol>\n"
      ],
      "text/latex": [
       "\\begin{enumerate*}\n",
       "\\item 'Nortel Networks Cherry Blossom 10mile Road Race'\n",
       "\\item 'Washington, DC *** April 8, 2001'\n",
       "\\item '\\textbar{} Men \\textbar{} Women \\textbar{} '\n",
       "\\item 'Official Results - WOMEN '\n",
       "\\item ' *** Gun Time is the Official Time '\n",
       "\\item ''\n",
       "\\item '                                                                 '\n",
       "\\item '                      '\n",
       "\\item '    1  6002 Elana MEYER           34 Rep Of S.africa      52:15   52:16\\#'\n",
       "\\item '    2  6004 Lydia GRIGORIEVA      27 Russia               53:12   53:15\\#'\n",
       "\\item '    3  6019 Eyerusalem KUMA       20 Ethiopia             53:16   53:19\\#'\n",
       "\\item '    4  6007 Milena GLUSAC         25 Usa                  53:33   53:34\\#'\n",
       "\\item '    5  6012 Olga KOVPOTINA        31 Russia               54:01   54:03\\#'\n",
       "\\item '    6  6020 Merima HASHIM         20 Ethiopia             54:29   54:31\\#'\n",
       "\\item '    7  6005 Jane OMORO            27 Kenya                55:05   55:08\\#'\n",
       "\\end{enumerate*}\n"
      ],
      "text/markdown": [
       "1. 'Nortel Networks Cherry Blossom 10mile Road Race'\n",
       "2. 'Washington, DC *** April 8, 2001'\n",
       "3. '| Men | Women | '\n",
       "4. 'Official Results - WOMEN '\n",
       "5. ' *** Gun Time is the Official Time '\n",
       "6. ''\n",
       "7. <span style=white-space:pre-wrap>'                                                                 '</span>\n",
       "8. <span style=white-space:pre-wrap>'                      '</span>\n",
       "9. <span style=white-space:pre-wrap>'    1  6002 Elana MEYER           34 Rep Of S.africa      52:15   52:16#'</span>\n",
       "10. <span style=white-space:pre-wrap>'    2  6004 Lydia GRIGORIEVA      27 Russia               53:12   53:15#'</span>\n",
       "11. <span style=white-space:pre-wrap>'    3  6019 Eyerusalem KUMA       20 Ethiopia             53:16   53:19#'</span>\n",
       "12. <span style=white-space:pre-wrap>'    4  6007 Milena GLUSAC         25 Usa                  53:33   53:34#'</span>\n",
       "13. <span style=white-space:pre-wrap>'    5  6012 Olga KOVPOTINA        31 Russia               54:01   54:03#'</span>\n",
       "14. <span style=white-space:pre-wrap>'    6  6020 Merima HASHIM         20 Ethiopia             54:29   54:31#'</span>\n",
       "15. <span style=white-space:pre-wrap>'    7  6005 Jane OMORO            27 Kenya                55:05   55:08#'</span>\n",
       "\n",
       "\n"
      ],
      "text/plain": [
       " [1] \"Nortel Networks Cherry Blossom 10mile Road Race\"                         \n",
       " [2] \"Washington, DC *** April 8, 2001\"                                        \n",
       " [3] \"| Men | Women | \"                                                        \n",
       " [4] \"Official Results - WOMEN \"                                               \n",
       " [5] \" *** Gun Time is the Official Time \"                                     \n",
       " [6] \"\"                                                                        \n",
       " [7] \"                                                                 \"       \n",
       " [8] \"                      \"                                                  \n",
       " [9] \"    1  6002 Elana MEYER           34 Rep Of S.africa      52:15   52:16#\"\n",
       "[10] \"    2  6004 Lydia GRIGORIEVA      27 Russia               53:12   53:15#\"\n",
       "[11] \"    3  6019 Eyerusalem KUMA       20 Ethiopia             53:16   53:19#\"\n",
       "[12] \"    4  6007 Milena GLUSAC         25 Usa                  53:33   53:34#\"\n",
       "[13] \"    5  6012 Olga KOVPOTINA        31 Russia               54:01   54:03#\"\n",
       "[14] \"    6  6020 Merima HASHIM         20 Ethiopia             54:29   54:31#\"\n",
       "[15] \"    7  6005 Jane OMORO            27 Kenya                55:05   55:08#\""
      ]
     },
     "metadata": {},
     "output_type": "display_data"
    }
   ],
   "source": [
    "femaleFiles[['2001']][1:15]"
   ]
  },
  {
   "cell_type": "code",
   "execution_count": 34,
   "metadata": {},
   "outputs": [
    {
     "data": {
      "text/html": [
       "<ol class=list-inline>\n",
       "\t<li>'Nortel Networks Cherry Blossom 10mile Road Race'</li>\n",
       "\t<li>'Washington, DC *** April 8, 2001'</li>\n",
       "\t<li>'| Men | Women |'</li>\n",
       "\t<li>''</li>\n",
       "\t<li>''</li>\n",
       "\t<li><span style=white-space:pre-wrap>'Official Results, MEN  '</span></li>\n",
       "\t<li>'Gun Time is the Official Time'</li>\n",
       "\t<li>''</li>\n",
       "\t<li>''</li>\n",
       "\t<li>' '</li>\n",
       "\t<li>''</li>\n",
       "\t<li><span style=white-space:pre-wrap>'PLACE NUM   NAME                  AG HOMETOWN           NET     GUN'</span></li>\n",
       "\t<li>'===== ===== ===================== == ================== ======= ======='</li>\n",
       "\t<li><span style=white-space:pre-wrap>'    1     4 John KORIR            26 Kenya                46:12   46:12#'</span></li>\n",
       "\t<li><span style=white-space:pre-wrap>'    2     1 Reuben CHERUIYOT      27 Kenya                46:11   46:13#'</span></li>\n",
       "</ol>\n"
      ],
      "text/latex": [
       "\\begin{enumerate*}\n",
       "\\item 'Nortel Networks Cherry Blossom 10mile Road Race'\n",
       "\\item 'Washington, DC *** April 8, 2001'\n",
       "\\item '\\textbar{} Men \\textbar{} Women \\textbar{}'\n",
       "\\item ''\n",
       "\\item ''\n",
       "\\item 'Official Results, MEN  '\n",
       "\\item 'Gun Time is the Official Time'\n",
       "\\item ''\n",
       "\\item ''\n",
       "\\item ' '\n",
       "\\item ''\n",
       "\\item 'PLACE NUM   NAME                  AG HOMETOWN           NET     GUN'\n",
       "\\item '===== ===== ===================== == ================== ======= ======='\n",
       "\\item '    1     4 John KORIR            26 Kenya                46:12   46:12\\#'\n",
       "\\item '    2     1 Reuben CHERUIYOT      27 Kenya                46:11   46:13\\#'\n",
       "\\end{enumerate*}\n"
      ],
      "text/markdown": [
       "1. 'Nortel Networks Cherry Blossom 10mile Road Race'\n",
       "2. 'Washington, DC *** April 8, 2001'\n",
       "3. '| Men | Women |'\n",
       "4. ''\n",
       "5. ''\n",
       "6. <span style=white-space:pre-wrap>'Official Results, MEN  '</span>\n",
       "7. 'Gun Time is the Official Time'\n",
       "8. ''\n",
       "9. ''\n",
       "10. ' '\n",
       "11. ''\n",
       "12. <span style=white-space:pre-wrap>'PLACE NUM   NAME                  AG HOMETOWN           NET     GUN'</span>\n",
       "13. '===== ===== ===================== == ================== ======= ======='\n",
       "14. <span style=white-space:pre-wrap>'    1     4 John KORIR            26 Kenya                46:12   46:12#'</span>\n",
       "15. <span style=white-space:pre-wrap>'    2     1 Reuben CHERUIYOT      27 Kenya                46:11   46:13#'</span>\n",
       "\n",
       "\n"
      ],
      "text/plain": [
       " [1] \"Nortel Networks Cherry Blossom 10mile Road Race\"                         \n",
       " [2] \"Washington, DC *** April 8, 2001\"                                        \n",
       " [3] \"| Men | Women |\"                                                         \n",
       " [4] \"\"                                                                        \n",
       " [5] \"\"                                                                        \n",
       " [6] \"Official Results, MEN  \"                                                 \n",
       " [7] \"Gun Time is the Official Time\"                                           \n",
       " [8] \"\"                                                                        \n",
       " [9] \"\"                                                                        \n",
       "[10] \" \"                                                                       \n",
       "[11] \"\"                                                                        \n",
       "[12] \"PLACE NUM   NAME                  AG HOMETOWN           NET     GUN\"     \n",
       "[13] \"===== ===== ===================== == ================== ======= =======\" \n",
       "[14] \"    1     4 John KORIR            26 Kenya                46:12   46:12#\"\n",
       "[15] \"    2     1 Reuben CHERUIYOT      27 Kenya                46:11   46:13#\""
      ]
     },
     "metadata": {},
     "output_type": "display_data"
    }
   ],
   "source": [
    "men2001 = readLines(\"/home/science/dan_sudip_tim/MSDS-7333-Quantifying-the-World/Untitled Folder/men2001.txt\")\n",
    "men2001[1:15]"
   ]
  },
  {
   "cell_type": "code",
   "execution_count": 35,
   "metadata": {},
   "outputs": [
    {
     "data": {
      "text/html": [
       "<ol class=list-inline>\n",
       "\t<li>'Nortel Networks Cherry Blossom 10mile Road Race'</li>\n",
       "\t<li>'Washington, DC *** April 8, 2001'</li>\n",
       "\t<li>'| Men | Women | '</li>\n",
       "\t<li>'Official Results - WOMEN '</li>\n",
       "\t<li>' *** Gun Time is the Official Time '</li>\n",
       "\t<li>''</li>\n",
       "\t<li><span style=white-space:pre-wrap>'                                                                 '</span></li>\n",
       "\t<li><span style=white-space:pre-wrap>'                      '</span></li>\n",
       "\t<li><span style=white-space:pre-wrap>'PLACE NUM   NAME                  AG HOMETOWN           NET     GUN'</span></li>\n",
       "\t<li>'===== ===== ===================== == ================== ======= ======='</li>\n",
       "\t<li><span style=white-space:pre-wrap>'    3  6019 Eyerusalem KUMA       20 Ethiopia             53:16   53:19#'</span></li>\n",
       "\t<li><span style=white-space:pre-wrap>'    4  6007 Milena GLUSAC         25 Usa                  53:33   53:34#'</span></li>\n",
       "\t<li><span style=white-space:pre-wrap>'    5  6012 Olga KOVPOTINA        31 Russia               54:01   54:03#'</span></li>\n",
       "\t<li><span style=white-space:pre-wrap>'    6  6020 Merima HASHIM         20 Ethiopia             54:29   54:31#'</span></li>\n",
       "\t<li><span style=white-space:pre-wrap>'    7  6005 Jane OMORO            27 Kenya                55:05   55:08#'</span></li>\n",
       "</ol>\n"
      ],
      "text/latex": [
       "\\begin{enumerate*}\n",
       "\\item 'Nortel Networks Cherry Blossom 10mile Road Race'\n",
       "\\item 'Washington, DC *** April 8, 2001'\n",
       "\\item '\\textbar{} Men \\textbar{} Women \\textbar{} '\n",
       "\\item 'Official Results - WOMEN '\n",
       "\\item ' *** Gun Time is the Official Time '\n",
       "\\item ''\n",
       "\\item '                                                                 '\n",
       "\\item '                      '\n",
       "\\item 'PLACE NUM   NAME                  AG HOMETOWN           NET     GUN'\n",
       "\\item '===== ===== ===================== == ================== ======= ======='\n",
       "\\item '    3  6019 Eyerusalem KUMA       20 Ethiopia             53:16   53:19\\#'\n",
       "\\item '    4  6007 Milena GLUSAC         25 Usa                  53:33   53:34\\#'\n",
       "\\item '    5  6012 Olga KOVPOTINA        31 Russia               54:01   54:03\\#'\n",
       "\\item '    6  6020 Merima HASHIM         20 Ethiopia             54:29   54:31\\#'\n",
       "\\item '    7  6005 Jane OMORO            27 Kenya                55:05   55:08\\#'\n",
       "\\end{enumerate*}\n"
      ],
      "text/markdown": [
       "1. 'Nortel Networks Cherry Blossom 10mile Road Race'\n",
       "2. 'Washington, DC *** April 8, 2001'\n",
       "3. '| Men | Women | '\n",
       "4. 'Official Results - WOMEN '\n",
       "5. ' *** Gun Time is the Official Time '\n",
       "6. ''\n",
       "7. <span style=white-space:pre-wrap>'                                                                 '</span>\n",
       "8. <span style=white-space:pre-wrap>'                      '</span>\n",
       "9. <span style=white-space:pre-wrap>'PLACE NUM   NAME                  AG HOMETOWN           NET     GUN'</span>\n",
       "10. '===== ===== ===================== == ================== ======= ======='\n",
       "11. <span style=white-space:pre-wrap>'    3  6019 Eyerusalem KUMA       20 Ethiopia             53:16   53:19#'</span>\n",
       "12. <span style=white-space:pre-wrap>'    4  6007 Milena GLUSAC         25 Usa                  53:33   53:34#'</span>\n",
       "13. <span style=white-space:pre-wrap>'    5  6012 Olga KOVPOTINA        31 Russia               54:01   54:03#'</span>\n",
       "14. <span style=white-space:pre-wrap>'    6  6020 Merima HASHIM         20 Ethiopia             54:29   54:31#'</span>\n",
       "15. <span style=white-space:pre-wrap>'    7  6005 Jane OMORO            27 Kenya                55:05   55:08#'</span>\n",
       "\n",
       "\n"
      ],
      "text/plain": [
       " [1] \"Nortel Networks Cherry Blossom 10mile Road Race\"                         \n",
       " [2] \"Washington, DC *** April 8, 2001\"                                        \n",
       " [3] \"| Men | Women | \"                                                        \n",
       " [4] \"Official Results - WOMEN \"                                               \n",
       " [5] \" *** Gun Time is the Official Time \"                                     \n",
       " [6] \"\"                                                                        \n",
       " [7] \"                                                                 \"       \n",
       " [8] \"                      \"                                                  \n",
       " [9] \"PLACE NUM   NAME                  AG HOMETOWN           NET     GUN\"     \n",
       "[10] \"===== ===== ===================== == ================== ======= =======\" \n",
       "[11] \"    3  6019 Eyerusalem KUMA       20 Ethiopia             53:16   53:19#\"\n",
       "[12] \"    4  6007 Milena GLUSAC         25 Usa                  53:33   53:34#\"\n",
       "[13] \"    5  6012 Olga KOVPOTINA        31 Russia               54:01   54:03#\"\n",
       "[14] \"    6  6020 Merima HASHIM         20 Ethiopia             54:29   54:31#\"\n",
       "[15] \"    7  6005 Jane OMORO            27 Kenya                55:05   55:08#\""
      ]
     },
     "metadata": {},
     "output_type": "display_data"
    }
   ],
   "source": [
    "femaleFiles[['2000']][9:10] = men2001[12:13]\n",
    "femaleFiles[['2000']][1:15]"
   ]
  },
  {
   "cell_type": "code",
   "execution_count": 36,
   "metadata": {},
   "outputs": [
    {
     "data": {
      "text/html": [
       "<ol class=list-inline>\n",
       "\t<li>'Nortel Networks Cherry Blossom 10mile Road Race'</li>\n",
       "\t<li>'Washington, DC *** April 8, 2001'</li>\n",
       "\t<li>'| Men | Women | '</li>\n",
       "\t<li>'Official Results - WOMEN '</li>\n",
       "\t<li>' *** Gun Time is the Official Time '</li>\n",
       "\t<li>''</li>\n",
       "\t<li><span style=white-space:pre-wrap>'                                                                 '</span></li>\n",
       "\t<li><span style=white-space:pre-wrap>'                      '</span></li>\n",
       "\t<li><span style=white-space:pre-wrap>'PLACE NUM   NAME                  AG HOMETOWN           NET     GUN'</span></li>\n",
       "\t<li>'===== ===== ===================== == ================== ======= ======='</li>\n",
       "\t<li><span style=white-space:pre-wrap>'    3  6019 Eyerusalem KUMA       20 Ethiopia             53:16   53:19#'</span></li>\n",
       "\t<li><span style=white-space:pre-wrap>'    4  6007 Milena GLUSAC         25 Usa                  53:33   53:34#'</span></li>\n",
       "\t<li><span style=white-space:pre-wrap>'    5  6012 Olga KOVPOTINA        31 Russia               54:01   54:03#'</span></li>\n",
       "\t<li><span style=white-space:pre-wrap>'    6  6020 Merima HASHIM         20 Ethiopia             54:29   54:31#'</span></li>\n",
       "\t<li><span style=white-space:pre-wrap>'    7  6005 Jane OMORO            27 Kenya                55:05   55:08#'</span></li>\n",
       "</ol>\n"
      ],
      "text/latex": [
       "\\begin{enumerate*}\n",
       "\\item 'Nortel Networks Cherry Blossom 10mile Road Race'\n",
       "\\item 'Washington, DC *** April 8, 2001'\n",
       "\\item '\\textbar{} Men \\textbar{} Women \\textbar{} '\n",
       "\\item 'Official Results - WOMEN '\n",
       "\\item ' *** Gun Time is the Official Time '\n",
       "\\item ''\n",
       "\\item '                                                                 '\n",
       "\\item '                      '\n",
       "\\item 'PLACE NUM   NAME                  AG HOMETOWN           NET     GUN'\n",
       "\\item '===== ===== ===================== == ================== ======= ======='\n",
       "\\item '    3  6019 Eyerusalem KUMA       20 Ethiopia             53:16   53:19\\#'\n",
       "\\item '    4  6007 Milena GLUSAC         25 Usa                  53:33   53:34\\#'\n",
       "\\item '    5  6012 Olga KOVPOTINA        31 Russia               54:01   54:03\\#'\n",
       "\\item '    6  6020 Merima HASHIM         20 Ethiopia             54:29   54:31\\#'\n",
       "\\item '    7  6005 Jane OMORO            27 Kenya                55:05   55:08\\#'\n",
       "\\end{enumerate*}\n"
      ],
      "text/markdown": [
       "1. 'Nortel Networks Cherry Blossom 10mile Road Race'\n",
       "2. 'Washington, DC *** April 8, 2001'\n",
       "3. '| Men | Women | '\n",
       "4. 'Official Results - WOMEN '\n",
       "5. ' *** Gun Time is the Official Time '\n",
       "6. ''\n",
       "7. <span style=white-space:pre-wrap>'                                                                 '</span>\n",
       "8. <span style=white-space:pre-wrap>'                      '</span>\n",
       "9. <span style=white-space:pre-wrap>'PLACE NUM   NAME                  AG HOMETOWN           NET     GUN'</span>\n",
       "10. '===== ===== ===================== == ================== ======= ======='\n",
       "11. <span style=white-space:pre-wrap>'    3  6019 Eyerusalem KUMA       20 Ethiopia             53:16   53:19#'</span>\n",
       "12. <span style=white-space:pre-wrap>'    4  6007 Milena GLUSAC         25 Usa                  53:33   53:34#'</span>\n",
       "13. <span style=white-space:pre-wrap>'    5  6012 Olga KOVPOTINA        31 Russia               54:01   54:03#'</span>\n",
       "14. <span style=white-space:pre-wrap>'    6  6020 Merima HASHIM         20 Ethiopia             54:29   54:31#'</span>\n",
       "15. <span style=white-space:pre-wrap>'    7  6005 Jane OMORO            27 Kenya                55:05   55:08#'</span>\n",
       "\n",
       "\n"
      ],
      "text/plain": [
       " [1] \"Nortel Networks Cherry Blossom 10mile Road Race\"                         \n",
       " [2] \"Washington, DC *** April 8, 2001\"                                        \n",
       " [3] \"| Men | Women | \"                                                        \n",
       " [4] \"Official Results - WOMEN \"                                               \n",
       " [5] \" *** Gun Time is the Official Time \"                                     \n",
       " [6] \"\"                                                                        \n",
       " [7] \"                                                                 \"       \n",
       " [8] \"                      \"                                                  \n",
       " [9] \"PLACE NUM   NAME                  AG HOMETOWN           NET     GUN\"     \n",
       "[10] \"===== ===== ===================== == ================== ======= =======\" \n",
       "[11] \"    3  6019 Eyerusalem KUMA       20 Ethiopia             53:16   53:19#\"\n",
       "[12] \"    4  6007 Milena GLUSAC         25 Usa                  53:33   53:34#\"\n",
       "[13] \"    5  6012 Olga KOVPOTINA        31 Russia               54:01   54:03#\"\n",
       "[14] \"    6  6020 Merima HASHIM         20 Ethiopia             54:29   54:31#\"\n",
       "[15] \"    7  6005 Jane OMORO            27 Kenya                55:05   55:08#\""
      ]
     },
     "metadata": {},
     "output_type": "display_data"
    }
   ],
   "source": [
    "femaleFiles[['2001']][9:10] = men2001[12:13]\n",
    "femaleFiles[['2001']][1:15]"
   ]
  },
  {
   "cell_type": "code",
   "execution_count": 37,
   "metadata": {},
   "outputs": [
    {
     "data": {
      "text/html": [
       "14"
      ],
      "text/latex": [
       "14"
      ],
      "text/markdown": [
       "14"
      ],
      "text/plain": [
       "[1] 14"
      ]
     },
     "metadata": {},
     "output_type": "display_data"
    }
   ],
   "source": [
    "femaleResMat = lapply(femaleFiles, extractVariables)\n",
    "length(femaleResMat)"
   ]
  },
  {
   "cell_type": "code",
   "execution_count": 38,
   "metadata": {},
   "outputs": [
    {
     "data": {
      "text/html": [
       "<dl class=dl-horizontal>\n",
       "\t<dt>1999</dt>\n",
       "\t\t<dd>2363</dd>\n",
       "\t<dt>2000</dt>\n",
       "\t\t<dd>2971</dd>\n",
       "\t<dt>2001</dt>\n",
       "\t\t<dd>2971</dd>\n",
       "\t<dt>2002</dt>\n",
       "\t\t<dd>3335</dd>\n",
       "\t<dt>2003</dt>\n",
       "\t\t<dd>3544</dd>\n",
       "\t<dt>2004</dt>\n",
       "\t\t<dd>3899</dd>\n",
       "\t<dt>2005</dt>\n",
       "\t\t<dd>4336</dd>\n",
       "\t<dt>2006</dt>\n",
       "\t\t<dd>5437</dd>\n",
       "\t<dt>2007</dt>\n",
       "\t\t<dd>5692</dd>\n",
       "\t<dt>2008</dt>\n",
       "\t\t<dd>6398</dd>\n",
       "\t<dt>2009</dt>\n",
       "\t\t<dd>8325</dd>\n",
       "\t<dt>2010</dt>\n",
       "\t\t<dd>8855</dd>\n",
       "\t<dt>2011</dt>\n",
       "\t\t<dd>9027</dd>\n",
       "\t<dt>2012</dt>\n",
       "\t\t<dd>9730</dd>\n",
       "</dl>\n"
      ],
      "text/latex": [
       "\\begin{description*}\n",
       "\\item[1999] 2363\n",
       "\\item[2000] 2971\n",
       "\\item[2001] 2971\n",
       "\\item[2002] 3335\n",
       "\\item[2003] 3544\n",
       "\\item[2004] 3899\n",
       "\\item[2005] 4336\n",
       "\\item[2006] 5437\n",
       "\\item[2007] 5692\n",
       "\\item[2008] 6398\n",
       "\\item[2009] 8325\n",
       "\\item[2010] 8855\n",
       "\\item[2011] 9027\n",
       "\\item[2012] 9730\n",
       "\\end{description*}\n"
      ],
      "text/markdown": [
       "1999\n",
       ":   23632000\n",
       ":   29712001\n",
       ":   29712002\n",
       ":   33352003\n",
       ":   35442004\n",
       ":   38992005\n",
       ":   43362006\n",
       ":   54372007\n",
       ":   56922008\n",
       ":   63982009\n",
       ":   83252010\n",
       ":   88552011\n",
       ":   90272012\n",
       ":   9730\n",
       "\n"
      ],
      "text/plain": [
       "1999 2000 2001 2002 2003 2004 2005 2006 2007 2008 2009 2010 2011 2012 \n",
       "2363 2971 2971 3335 3544 3899 4336 5437 5692 6398 8325 8855 9027 9730 "
      ]
     },
     "metadata": {},
     "output_type": "display_data"
    }
   ],
   "source": [
    "sapply(femaleResMat, nrow)"
   ]
  },
  {
   "cell_type": "markdown",
   "metadata": {},
   "source": [
    "Now, the files have been read in successfully and the number of rows in each year looks reasonable. With the data read into R, we can now convert the convert them into a format that lends itself to analysis more easily and perform more data cleaning as necessary. To do this, we will convert the character matrix into a dataframe and then convert each column to a data type that makes sense for each respective variable. We will start by converting the age column from the 2012 data to numeric values and checking its validity."
   ]
  },
  {
   "cell_type": "code",
   "execution_count": 39,
   "metadata": {},
   "outputs": [],
   "source": [
    "age = as.numeric(femaleResMat[['2012']][ , 'ag'])"
   ]
  },
  {
   "cell_type": "markdown",
   "metadata": {},
   "source": [
    "This small subset of ages look correct, but further investigation is needed. The summary of each year's ages can be generated using the sapply function"
   ]
  },
  {
   "cell_type": "code",
   "execution_count": 40,
   "metadata": {},
   "outputs": [
    {
     "name": "stderr",
     "output_type": "stream",
     "text": [
      "Warning message in FUN(X[[i]], ...):\n",
      "“NAs introduced by coercion”Warning message in FUN(X[[i]], ...):\n",
      "“NAs introduced by coercion”Warning message in FUN(X[[i]], ...):\n",
      "“NAs introduced by coercion”"
     ]
    }
   ],
   "source": [
    "age = sapply(femaleResMat,\n",
    "             function(x) as.numeric(x[ , 'ag']))"
   ]
  },
  {
   "cell_type": "code",
   "execution_count": 41,
   "metadata": {},
   "outputs": [
    {
     "data": {
      "image/png": "[encoded data removed]",
      "text/plain": [
       "plot without title"
      ]
     },
     "metadata": {},
     "output_type": "display_data"
    }
   ],
   "source": [
    "boxplot(age, ylab = \"Age\", xlab = \"Year\")"
   ]
  },
  {
   "cell_type": "markdown",
   "metadata": {},
   "source": [
    "These side-by-side boxplots of age for each race year show a few problems with the data for 2003 and 2006. The runners in these years are unusually young."
   ]
  },
  {
   "cell_type": "markdown",
   "metadata": {},
   "source": [
    "We can see that in the 2003 data the ages are all shifted one space to the left and in the 2006 data the ages are shifted one space to the right. This is what is causing the erroneous values, as only one of the two digits is being read in as the age. We will modify the selectCols function to include the value in the space between columns and check the age values again."
   ]
  },
  {
   "cell_type": "code",
   "execution_count": 42,
   "metadata": {},
   "outputs": [],
   "source": [
    "selectCols = function(shortColNames, headerRow, searchLocs) {\n",
    "  sapply(shortColNames, function(shortName, headerRow, searchLocs){\n",
    "    startPos = regexpr(shortName, headerRow)[[1]]\n",
    "    if (startPos == -1) return( c(NA, NA) )\n",
    "    index = sum(startPos >= searchLocs)\n",
    "    c(searchLocs[index] + 1, searchLocs[index + 1])\n",
    "  }, headerRow = headerRow, searchLocs = searchLocs )\n",
    "}"
   ]
  },
  {
   "cell_type": "code",
   "execution_count": 43,
   "metadata": {},
   "outputs": [],
   "source": [
    "femaleResMat = lapply(femaleFiles, extractVariables)"
   ]
  },
  {
   "cell_type": "code",
   "execution_count": 44,
   "metadata": {},
   "outputs": [
    {
     "name": "stderr",
     "output_type": "stream",
     "text": [
      "Warning message in FUN(X[[i]], ...):\n",
      "“NAs introduced by coercion”Warning message in FUN(X[[i]], ...):\n",
      "“NAs introduced by coercion”Warning message in FUN(X[[i]], ...):\n",
      "“NAs introduced by coercion”"
     ]
    }
   ],
   "source": [
    "age = sapply(femaleResMat, \n",
    "             function(x) as.numeric(x[ , 'ag']))"
   ]
  },
  {
   "cell_type": "code",
   "execution_count": 45,
   "metadata": {},
   "outputs": [
    {
     "data": {
      "image/png": "[encoded data removed]",
      "text/plain": [
       "plot without title"
      ]
     },
     "metadata": {},
     "output_type": "display_data"
    }
   ],
   "source": [
    "boxplot(age, ylab = \"Age\", xlab = \"Year\")"
   ]
  },
  {
   "cell_type": "code",
   "execution_count": 46,
   "metadata": {},
   "outputs": [
    {
     "data": {
      "text/html": [
       "<dl class=dl-horizontal>\n",
       "\t<dt>1999</dt>\n",
       "\t\t<dd>11</dd>\n",
       "\t<dt>2000</dt>\n",
       "\t\t<dd>1</dd>\n",
       "\t<dt>2001</dt>\n",
       "\t\t<dd>1</dd>\n",
       "\t<dt>2002</dt>\n",
       "\t\t<dd>5</dd>\n",
       "\t<dt>2003</dt>\n",
       "\t\t<dd>2</dd>\n",
       "\t<dt>2004</dt>\n",
       "\t\t<dd>0</dd>\n",
       "\t<dt>2005</dt>\n",
       "\t\t<dd>11</dd>\n",
       "\t<dt>2006</dt>\n",
       "\t\t<dd>3</dd>\n",
       "\t<dt>2007</dt>\n",
       "\t\t<dd>4</dd>\n",
       "\t<dt>2008</dt>\n",
       "\t\t<dd>1</dd>\n",
       "\t<dt>2009</dt>\n",
       "\t\t<dd>4</dd>\n",
       "\t<dt>2010</dt>\n",
       "\t\t<dd>2</dd>\n",
       "\t<dt>2011</dt>\n",
       "\t\t<dd>0</dd>\n",
       "\t<dt>2012</dt>\n",
       "\t\t<dd>0</dd>\n",
       "</dl>\n"
      ],
      "text/latex": [
       "\\begin{description*}\n",
       "\\item[1999] 11\n",
       "\\item[2000] 1\n",
       "\\item[2001] 1\n",
       "\\item[2002] 5\n",
       "\\item[2003] 2\n",
       "\\item[2004] 0\n",
       "\\item[2005] 11\n",
       "\\item[2006] 3\n",
       "\\item[2007] 4\n",
       "\\item[2008] 1\n",
       "\\item[2009] 4\n",
       "\\item[2010] 2\n",
       "\\item[2011] 0\n",
       "\\item[2012] 0\n",
       "\\end{description*}\n"
      ],
      "text/markdown": [
       "1999\n",
       ":   112000\n",
       ":   12001\n",
       ":   12002\n",
       ":   52003\n",
       ":   22004\n",
       ":   02005\n",
       ":   112006\n",
       ":   32007\n",
       ":   42008\n",
       ":   12009\n",
       ":   42010\n",
       ":   22011\n",
       ":   02012\n",
       ":   0\n",
       "\n"
      ],
      "text/plain": [
       "1999 2000 2001 2002 2003 2004 2005 2006 2007 2008 2009 2010 2011 2012 \n",
       "  11    1    1    5    2    0   11    3    4    1    4    2    0    0 "
      ]
     },
     "metadata": {},
     "output_type": "display_data"
    }
   ],
   "source": [
    "sapply(age,  function(x) sum(is.na(x)))"
   ]
  },
  {
   "cell_type": "markdown",
   "metadata": {},
   "source": [
    "Now we create a function to convert the data form a mstrix to a dataframe"
   ]
  },
  {
   "cell_type": "code",
   "execution_count": 47,
   "metadata": {},
   "outputs": [],
   "source": [
    "convertTime = function(time) {\n",
    "  timePieces = strsplit(time, \":\")\n",
    "  timePieces = sapply(timePieces, as.numeric)\n",
    "  sapply(timePieces, function(x) {\n",
    "                      if (length(x) == 2) x[1] + x[2]/60\n",
    "                      else 60*x[1] + x[2] + x[3]/60\n",
    "                      })\n",
    "}"
   ]
  },
  {
   "cell_type": "code",
   "execution_count": 48,
   "metadata": {},
   "outputs": [],
   "source": [
    "createDF =\n",
    "function(Res, year, sex)\n",
    "{\n",
    "       # Determine which time to use\n",
    "  useTime = if( !is.na(Res[1, \"net\"]) )\n",
    "              Res[ , \"net\"]\n",
    "            else if( !is.na(Res[1, \"gun\"]) )\n",
    "               Res[ , \"gun\"]\n",
    "            else\n",
    "               Res[ , \"time\"]\n",
    "  runTime = convertTime(useTime)\n",
    "  Results = data.frame(year = rep(year, nrow(Res)),\n",
    "                       sex = rep(sex, nrow(Res)),\n",
    "                       name = Res[ , \"name\"],\n",
    "                       home = Res[ , \"home\"],\n",
    "                       age = as.numeric(Res[, \"ag\"]),\n",
    "                       runTime = runTime,\n",
    "                       stringsAsFactors = FALSE)\n",
    "  invisible(Results)\n",
    "}"
   ]
  },
  {
   "cell_type": "code",
   "execution_count": 59,
   "metadata": {},
   "outputs": [],
   "source": [
    "femaleDF = mapply(createDF, femaleResMat, year = 1999:2010,\n",
    "                   sex = rep(\"W\", 12), SIMPLIFY = FALSE)"
   ]
  },
  {
   "cell_type": "markdown",
   "metadata": {},
   "source": [
    "The above function call produces about 50 or so warnings about *NAs introduced by coercion*. It is likely coming from the time conversion. Lets check,"
   ]
  },
  {
   "cell_type": "code",
   "execution_count": 50,
   "metadata": {},
   "outputs": [
    {
     "data": {
      "text/html": [
       "<dl class=dl-horizontal>\n",
       "\t<dt>1999</dt>\n",
       "\t\t<dd>7</dd>\n",
       "\t<dt>2000</dt>\n",
       "\t\t<dd>1</dd>\n",
       "\t<dt>2001</dt>\n",
       "\t\t<dd>1</dd>\n",
       "\t<dt>2002</dt>\n",
       "\t\t<dd>1</dd>\n",
       "\t<dt>2003</dt>\n",
       "\t\t<dd>2</dd>\n",
       "\t<dt>2004</dt>\n",
       "\t\t<dd>0</dd>\n",
       "\t<dt>2005</dt>\n",
       "\t\t<dd>3</dd>\n",
       "\t<dt>2006</dt>\n",
       "\t\t<dd>5433</dd>\n",
       "\t<dt>2007</dt>\n",
       "\t\t<dd>194</dd>\n",
       "\t<dt>2008</dt>\n",
       "\t\t<dd>1</dd>\n",
       "\t<dt>2009</dt>\n",
       "\t\t<dd>117</dd>\n",
       "\t<dt>2010</dt>\n",
       "\t\t<dd>109</dd>\n",
       "\t<dt>2011</dt>\n",
       "\t\t<dd>0</dd>\n",
       "\t<dt>2012</dt>\n",
       "\t\t<dd>0</dd>\n",
       "</dl>\n"
      ],
      "text/latex": [
       "\\begin{description*}\n",
       "\\item[1999] 7\n",
       "\\item[2000] 1\n",
       "\\item[2001] 1\n",
       "\\item[2002] 1\n",
       "\\item[2003] 2\n",
       "\\item[2004] 0\n",
       "\\item[2005] 3\n",
       "\\item[2006] 5433\n",
       "\\item[2007] 194\n",
       "\\item[2008] 1\n",
       "\\item[2009] 117\n",
       "\\item[2010] 109\n",
       "\\item[2011] 0\n",
       "\\item[2012] 0\n",
       "\\end{description*}\n"
      ],
      "text/markdown": [
       "1999\n",
       ":   72000\n",
       ":   12001\n",
       ":   12002\n",
       ":   12003\n",
       ":   22004\n",
       ":   02005\n",
       ":   32006\n",
       ":   54332007\n",
       ":   1942008\n",
       ":   12009\n",
       ":   1172010\n",
       ":   1092011\n",
       ":   02012\n",
       ":   0\n",
       "\n"
      ],
      "text/plain": [
       "1999 2000 2001 2002 2003 2004 2005 2006 2007 2008 2009 2010 2011 2012 \n",
       "   7    1    1    1    2    0    3 5433  194    1  117  109    0    0 "
      ]
     },
     "metadata": {},
     "output_type": "display_data"
    }
   ],
   "source": [
    "sapply(femaleDF, function(x) sum(is.na(x$runTime)))"
   ]
  },
  {
   "cell_type": "markdown",
   "metadata": {},
   "source": [
    "There are a large number of NAs in 2007, 2009, and 2010, and it appears that all of the run time values for 2006 are NA. Let’s begin by examining a few of the records in 2007, 2009, and 2010 that have an NA in run time. We find that these are caused by runners who completed half the race but have no final times and by runners who have a footnote after their time. We have to modify our createDF() fucnton to eliminate the footnote smybols(# and *) ."
   ]
  },
  {
   "cell_type": "code",
   "execution_count": 51,
   "metadata": {},
   "outputs": [],
   "source": [
    "createDF = function(Res, year, sex) \n",
    "{\n",
    "  # Determine which time to use\n",
    "  if ( !is.na(Res[1, 'net']) ) useTime = Res[ , 'net']\n",
    "  else if ( !is.na(Res[1, 'gun']) ) useTime = Res[ , 'gun']\n",
    "  else useTime = Res[ , 'time']\n",
    "  \n",
    "  # Remove # and * and blanks from time\n",
    "  useTime = gsub(\"[#\\\\*[:blank:]]\", \"\", useTime)\n",
    "  runTime = convertTime(useTime[ useTime != \"\" ])\n",
    "  \n",
    "  # Drop rows with no time\n",
    "  Res = Res[ useTime != \"\", ]\n",
    "  \n",
    "  Results = data.frame(year = rep(year, nrow(Res)),\n",
    "                       sex = rep(sex, nrow(Res)),\n",
    "                       name = Res[ , 'name'], home = Res[ , 'home'],\n",
    "                       age = as.numeric(Res[, 'ag']), \n",
    "                       runTime = runTime,\n",
    "                       stringsAsFactors = FALSE)\n",
    "  invisible(Results)\n",
    "}"
   ]
  },
  {
   "cell_type": "markdown",
   "metadata": {},
   "source": [
    "Now we will reconstruct the dataframes and recheck the number of null runtime values."
   ]
  },
  {
   "cell_type": "code",
   "execution_count": 60,
   "metadata": {},
   "outputs": [],
   "source": [
    "femaleDF = mapply(createDF, femaleResMat, year = 1999:2010,\n",
    "                   sex = rep(\"W\", 12), SIMPLIFY = FALSE)"
   ]
  },
  {
   "cell_type": "code",
   "execution_count": 53,
   "metadata": {},
   "outputs": [
    {
     "data": {
      "text/html": [
       "<dl class=dl-horizontal>\n",
       "\t<dt>1999</dt>\n",
       "\t\t<dd>0</dd>\n",
       "\t<dt>2000</dt>\n",
       "\t\t<dd>1</dd>\n",
       "\t<dt>2001</dt>\n",
       "\t\t<dd>1</dd>\n",
       "\t<dt>2002</dt>\n",
       "\t\t<dd>1</dd>\n",
       "\t<dt>2003</dt>\n",
       "\t\t<dd>0</dd>\n",
       "\t<dt>2004</dt>\n",
       "\t\t<dd>0</dd>\n",
       "\t<dt>2005</dt>\n",
       "\t\t<dd>0</dd>\n",
       "\t<dt>2006</dt>\n",
       "\t\t<dd>5431</dd>\n",
       "\t<dt>2007</dt>\n",
       "\t\t<dd>0</dd>\n",
       "\t<dt>2008</dt>\n",
       "\t\t<dd>0</dd>\n",
       "\t<dt>2009</dt>\n",
       "\t\t<dd>0</dd>\n",
       "\t<dt>2010</dt>\n",
       "\t\t<dd>0</dd>\n",
       "\t<dt>2011</dt>\n",
       "\t\t<dd>0</dd>\n",
       "\t<dt>2012</dt>\n",
       "\t\t<dd>0</dd>\n",
       "</dl>\n"
      ],
      "text/latex": [
       "\\begin{description*}\n",
       "\\item[1999] 0\n",
       "\\item[2000] 1\n",
       "\\item[2001] 1\n",
       "\\item[2002] 1\n",
       "\\item[2003] 0\n",
       "\\item[2004] 0\n",
       "\\item[2005] 0\n",
       "\\item[2006] 5431\n",
       "\\item[2007] 0\n",
       "\\item[2008] 0\n",
       "\\item[2009] 0\n",
       "\\item[2010] 0\n",
       "\\item[2011] 0\n",
       "\\item[2012] 0\n",
       "\\end{description*}\n"
      ],
      "text/markdown": [
       "1999\n",
       ":   02000\n",
       ":   12001\n",
       ":   12002\n",
       ":   12003\n",
       ":   02004\n",
       ":   02005\n",
       ":   02006\n",
       ":   54312007\n",
       ":   02008\n",
       ":   02009\n",
       ":   02010\n",
       ":   02011\n",
       ":   02012\n",
       ":   0\n",
       "\n"
      ],
      "text/plain": [
       "1999 2000 2001 2002 2003 2004 2005 2006 2007 2008 2009 2010 2011 2012 \n",
       "   0    1    1    1    0    0    0 5431    0    0    0    0    0    0 "
      ]
     },
     "metadata": {},
     "output_type": "display_data"
    }
   ],
   "source": [
    "sapply(femaleDF, function(x) sum(is.na(x$runTime)))"
   ]
  },
  {
   "cell_type": "markdown",
   "metadata": {},
   "source": [
    "##### TODO:\n",
    "Close inspection of the header for the 2006 file reveals the problem, but for brevity’s sake, we leave that problem to the exercises as well."
   ]
  },
  {
   "cell_type": "markdown",
   "metadata": {},
   "source": [
    "Finally, we combine the race results for all years and females into one data frame using the do.call() function to call rbind() with the list of data frames as input. The do.call() function is very convenient when we have the individual arguments to a function as elements of a list."
   ]
  },
  {
   "cell_type": "code",
   "execution_count": 54,
   "metadata": {},
   "outputs": [],
   "source": [
    "cbFemale = do.call(rbind, femaleDF)\n",
    "save(cbFemale, file = \"cbFemale.rda\")"
   ]
  },
  {
   "cell_type": "code",
   "execution_count": 55,
   "metadata": {},
   "outputs": [
    {
     "data": {
      "text/html": [
       "<ol class=list-inline>\n",
       "\t<li>76774</li>\n",
       "\t<li>6</li>\n",
       "</ol>\n"
      ],
      "text/latex": [
       "\\begin{enumerate*}\n",
       "\\item 76774\n",
       "\\item 6\n",
       "\\end{enumerate*}\n"
      ],
      "text/markdown": [
       "1. 76774\n",
       "2. 6\n",
       "\n",
       "\n"
      ],
      "text/plain": [
       "[1] 76774     6"
      ]
     },
     "metadata": {},
     "output_type": "display_data"
    }
   ],
   "source": [
    "dim(cbFemale)"
   ]
  },
  {
   "cell_type": "code",
   "execution_count": 56,
   "metadata": {},
   "outputs": [
    {
     "data": {
      "text/html": [
       "<table>\n",
       "<thead><tr><th></th><th scope=col>year</th><th scope=col>sex</th><th scope=col>name</th><th scope=col>home</th><th scope=col>age</th><th scope=col>runTime</th></tr></thead>\n",
       "<tbody>\n",
       "\t<tr><th scope=row>1999.1</th><td>1999                  </td><td>W                     </td><td>Jane Omoro            </td><td>Kenya                 </td><td>26                    </td><td>53.61667              </td></tr>\n",
       "\t<tr><th scope=row>1999.2</th><td>1999                  </td><td>W                     </td><td>Jane Ngotho           </td><td>Kenya                 </td><td>29                    </td><td>53.63333              </td></tr>\n",
       "\t<tr><th scope=row>1999.3</th><td>1999                  </td><td>W                     </td><td>Lidiya Grigoryeva     </td><td>Russia                </td><td>NA                    </td><td>53.66667              </td></tr>\n",
       "\t<tr><th scope=row>1999.4</th><td>1999                  </td><td>W                     </td><td>Eunice Sagero         </td><td>Kenya                 </td><td>20                    </td><td>53.91667              </td></tr>\n",
       "\t<tr><th scope=row>1999.5</th><td>1999                  </td><td>W                     </td><td>Alla Zhilyayeva       </td><td>Russia                </td><td>29                    </td><td>54.13333              </td></tr>\n",
       "\t<tr><th scope=row>1999.6</th><td>1999                  </td><td>W                     </td><td>Teresa Wanjiku        </td><td>Kenya                 </td><td>24                    </td><td>54.16667              </td></tr>\n",
       "</tbody>\n",
       "</table>\n"
      ],
      "text/latex": [
       "\\begin{tabular}{r|llllll}\n",
       "  & year & sex & name & home & age & runTime\\\\\n",
       "\\hline\n",
       "\t1999.1 & 1999                   & W                      & Jane Omoro             & Kenya                  & 26                     & 53.61667              \\\\\n",
       "\t1999.2 & 1999                   & W                      & Jane Ngotho            & Kenya                  & 29                     & 53.63333              \\\\\n",
       "\t1999.3 & 1999                   & W                      & Lidiya Grigoryeva      & Russia                 & NA                     & 53.66667              \\\\\n",
       "\t1999.4 & 1999                   & W                      & Eunice Sagero          & Kenya                  & 20                     & 53.91667              \\\\\n",
       "\t1999.5 & 1999                   & W                      & Alla Zhilyayeva        & Russia                 & 29                     & 54.13333              \\\\\n",
       "\t1999.6 & 1999                   & W                      & Teresa Wanjiku         & Kenya                  & 24                     & 54.16667              \\\\\n",
       "\\end{tabular}\n"
      ],
      "text/markdown": [
       "\n",
       "| <!--/--> | year | sex | name | home | age | runTime | \n",
       "|---|---|---|---|---|---|\n",
       "| 1999.1 | 1999                   | W                      | Jane Omoro             | Kenya                  | 26                     | 53.61667               | \n",
       "| 1999.2 | 1999                   | W                      | Jane Ngotho            | Kenya                  | 29                     | 53.63333               | \n",
       "| 1999.3 | 1999                   | W                      | Lidiya Grigoryeva      | Russia                 | NA                     | 53.66667               | \n",
       "| 1999.4 | 1999                   | W                      | Eunice Sagero          | Kenya                  | 20                     | 53.91667               | \n",
       "| 1999.5 | 1999                   | W                      | Alla Zhilyayeva        | Russia                 | 29                     | 54.13333               | \n",
       "| 1999.6 | 1999                   | W                      | Teresa Wanjiku         | Kenya                  | 24                     | 54.16667               | \n",
       "\n",
       "\n"
      ],
      "text/plain": [
       "       year sex name                   home                age runTime \n",
       "1999.1 1999 W   Jane Omoro             Kenya               26  53.61667\n",
       "1999.2 1999 W   Jane Ngotho            Kenya               29  53.63333\n",
       "1999.3 1999 W   Lidiya Grigoryeva      Russia              NA  53.66667\n",
       "1999.4 1999 W   Eunice Sagero          Kenya               20  53.91667\n",
       "1999.5 1999 W   Alla Zhilyayeva        Russia              29  54.13333\n",
       "1999.6 1999 W   Teresa Wanjiku         Kenya               24  54.16667"
      ]
     },
     "metadata": {},
     "output_type": "display_data"
    }
   ],
   "source": [
    "head(cbFemale)"
   ]
  },
  {
   "cell_type": "code",
   "execution_count": 57,
   "metadata": {},
   "outputs": [
    {
     "name": "stdout",
     "output_type": "stream",
     "text": [
      "'data.frame':\t76774 obs. of  6 variables:\n",
      " $ year   : int  1999 1999 1999 1999 1999 1999 1999 1999 1999 1999 ...\n",
      " $ sex    : chr  \"W\" \"W\" \"W\" \"W\" ...\n",
      " $ name   : chr  \"Jane Omoro            \" \"Jane Ngotho           \" \"Lidiya Grigoryeva     \" \"Eunice Sagero         \" ...\n",
      " $ home   : chr  \"Kenya              \" \"Kenya              \" \"Russia             \" \"Kenya              \" ...\n",
      " $ age    : num  26 29 NA 20 29 24 38 NA 27 30 ...\n",
      " $ runTime: num  53.6 53.6 53.7 53.9 54.1 ...\n"
     ]
    }
   ],
   "source": [
    "str(cbFemale)"
   ]
  },
  {
   "cell_type": "markdown",
   "metadata": {},
   "source": [
    "Over these 14 years, 76,774 female runners completed the Cherry Blossom race. Only 70,070 male runner completed the Cherry Blossom race in the same time period. "
   ]
  },
  {
   "cell_type": "code",
   "execution_count": 61,
   "metadata": {},
   "outputs": [
    {
     "data": {
      "text/plain": [
       "      year          sex                name               home          \n",
       " Min.   :1999   Length:76774       Length:76774       Length:76774      \n",
       " 1st Qu.:2000   Class :character   Class :character   Class :character  \n",
       " Median :2005   Mode  :character   Mode  :character   Mode  :character  \n",
       " Mean   :2004                                                           \n",
       " 3rd Qu.:2008                                                           \n",
       " Max.   :2010                                                           \n",
       "                                                                        \n",
       "      age           runTime      \n",
       " Min.   : 0.00   Min.   : 51.73  \n",
       " 1st Qu.:27.00   1st Qu.: 88.50  \n",
       " Median :32.00   Median : 97.30  \n",
       " Mean   :33.84   Mean   : 98.07  \n",
       " 3rd Qu.:39.00   3rd Qu.:106.77  \n",
       " Max.   :87.00   Max.   :177.52  \n",
       " NA's   :24      NA's   :5434    "
      ]
     },
     "metadata": {},
     "output_type": "display_data"
    }
   ],
   "source": [
    "summary(cbFemale)"
   ]
  },
  {
   "cell_type": "code",
   "execution_count": null,
   "metadata": {},
   "outputs": [],
   "source": []
  }
 ],
 "metadata": {
  "kernelspec": {
   "display_name": "R 3.4",
   "language": "R",
   "name": "ir"
  },
  "language_info": {
   "codemirror_mode": "r",
   "file_extension": ".r",
   "mimetype": "text/x-r-source",
   "name": "R",
   "pygments_lexer": "r",
   "version": "3.4.1"
  }
 },
 "nbformat": 4,
 "nbformat_minor": 2
}
